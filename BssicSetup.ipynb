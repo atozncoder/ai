{
 "cells": [
  {
   "cell_type": "code",
   "execution_count": 1,
   "id": "a1d4ed9f-8514-47c4-a63c-48a97054e759",
   "metadata": {},
   "outputs": [],
   "source": [
    "!pip install -Uqq fastai\n",
    "!pip install -Uqq fastbook"
   ]
  },
  {
   "cell_type": "code",
   "execution_count": null,
   "id": "ec1df4a0-2e38-4d73-a85d-16ae5ff4056c",
   "metadata": {},
   "outputs": [],
   "source": [
    "from fastbook import *"
   ]
  },
  {
   "cell_type": "code",
   "execution_count": 1,
   "id": "31adab2b-7726-427e-9c36-51b70e4d6920",
   "metadata": {},
   "outputs": [],
   "source": [
    "import ipywidgets as widgets\n",
    "from ipywidgets import interact"
   ]
  },
  {
   "cell_type": "code",
   "execution_count": 7,
   "id": "ffb012cf-ab5d-43de-ad08-8a90a9df1830",
   "metadata": {},
   "outputs": [
    {
     "data": {
      "application/vnd.jupyter.widget-view+json": {
       "model_id": "77265f41752b4961af18b45829de4bec",
       "version_major": 2,
       "version_minor": 0
      },
      "text/plain": [
       "IntSlider(value=0)"
      ]
     },
     "execution_count": 7,
     "metadata": {},
     "output_type": "execute_result"
    }
   ],
   "source": [
    "widgets.IntSlider()"
   ]
  },
  {
   "cell_type": "code",
   "execution_count": 9,
   "id": "0ef8c9f1-79e8-40a1-8d0b-aa4f08019b5f",
   "metadata": {},
   "outputs": [
    {
     "data": {
      "text/plain": [
       "<ipywidgets.widgets.interaction._InteractFactory at 0x7f535c337d10>"
      ]
     },
     "execution_count": 9,
     "metadata": {},
     "output_type": "execute_result"
    }
   ],
   "source": [
    "widgets.interact()"
   ]
  },
  {
   "cell_type": "code",
   "execution_count": 10,
   "id": "ff492dc1-61c6-4783-bf36-2f5fb63c4908",
   "metadata": {},
   "outputs": [],
   "source": [
    "def f(x):\n",
    "    return x"
   ]
  },
  {
   "cell_type": "code",
   "execution_count": 12,
   "id": "10183e2f-324e-4a71-9a03-1d0ea966caa8",
   "metadata": {},
   "outputs": [
    {
     "data": {
      "application/vnd.jupyter.widget-view+json": {
       "model_id": "183e855ccf784d99ba07fcf2a4ffb069",
       "version_major": 2,
       "version_minor": 0
      },
      "text/plain": [
       "interactive(children=(IntSlider(value=10, description='x', max=30, min=-10), Output()), _dom_classes=('widget-…"
      ]
     },
     "metadata": {},
     "output_type": "display_data"
    },
    {
     "data": {
      "text/plain": [
       "<function __main__.f(x)>"
      ]
     },
     "execution_count": 12,
     "metadata": {},
     "output_type": "execute_result"
    }
   ],
   "source": [
    "widgets.interact(f, x=10)"
   ]
  },
  {
   "cell_type": "code",
   "execution_count": 2,
   "id": "fe0612a2-1d52-409e-a31e-daa66f6aecad",
   "metadata": {},
   "outputs": [
    {
     "data": {
      "application/vnd.jupyter.widget-view+json": {
       "model_id": "06107c629c4d45529da89460a4f269df",
       "version_major": 2,
       "version_minor": 0
      },
      "text/plain": [
       "interactive(children=(IntSlider(value=10, description='x', max=30, min=-10), Output()), _dom_classes=('widget-…"
      ]
     },
     "metadata": {},
     "output_type": "display_data"
    }
   ],
   "source": [
    "@interact(x=10)\n",
    "def f2(x):\n",
    "    return 2*x"
   ]
  }
 ],
 "metadata": {
  "kernelspec": {
   "display_name": "Python 3 (ipykernel)",
   "language": "python",
   "name": "python3"
  },
  "language_info": {
   "codemirror_mode": {
    "name": "ipython",
    "version": 3
   },
   "file_extension": ".py",
   "mimetype": "text/x-python",
   "name": "python",
   "nbconvert_exporter": "python",
   "pygments_lexer": "ipython3",
   "version": "3.11.5"
  }
 },
 "nbformat": 4,
 "nbformat_minor": 5
}
