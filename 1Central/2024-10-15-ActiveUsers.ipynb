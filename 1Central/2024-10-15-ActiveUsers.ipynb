{
 "cells": [
  {
   "cell_type": "code",
   "execution_count": 37,
   "id": "df46e732-885e-40b1-9d97-d243fdcadab4",
   "metadata": {},
   "outputs": [],
   "source": [
    "import pandas as pd"
   ]
  },
  {
   "cell_type": "code",
   "execution_count": 34,
   "id": "862bc131-6875-4ff9-b5c7-dd5503353b95",
   "metadata": {},
   "outputs": [
    {
     "name": "stderr",
     "output_type": "stream",
     "text": [
      "<>:1: SyntaxWarning: invalid escape sequence '\\s'\n",
      "<>:1: SyntaxWarning: invalid escape sequence '\\s'\n",
      "/tmp/ipykernel_1059/4017009777.py:1: SyntaxWarning: invalid escape sequence '\\s'\n",
      "  user_counts = pd.read_csv(\"../data/1c/1C_Users_Counts.csv\", sep=\"\\s+\")\n"
     ]
    },
    {
     "data": {
      "text/plain": [
       "LastLoginDateExists      False\n",
       "ApiUser                  False\n",
       "Internal                 False\n",
       "Status                 DELETED\n",
       "Cnt                        325\n",
       "Name: 0, dtype: object"
      ]
     },
     "execution_count": 34,
     "metadata": {},
     "output_type": "execute_result"
    }
   ],
   "source": [
    "user_counts = pd.read_csv(\"../data/1c/1C_Users_Counts.csv\", sep=\"\\s+\")\n",
    "user_counts[\"LastLoginDateExists\"] = user_counts[\"lld\"] == 1\n",
    "user_counts[\"ApiUser\"] = user_counts[\"is_system_user\"]\n",
    "user_counts[\"Internal\"] = user_counts[\"internal\"] == 1\n",
    "user_counts[\"Status\"] = user_counts[\"status\"]\n",
    "user_counts[\"Cnt\"] = user_counts[\"count(*)\"]\n",
    "user_counts = user_counts.reindex(columns=[\"LastLoginDateExists\", \"lld\", \"ApiUser\", \"is_system_user\", \"Internal\", \"internal\", \"Status\", \"status\", \"Cnt\", \"count(*)\"])\n",
    "user_counts = user_counts.sort_values(by = [\"LastLoginDateExists\", \"ApiUser\", \"Internal\", \"Status\"], ascending=[False, True, True, True])\n",
    "user_counts = user_counts.drop([\"lld\",\"is_system_user\",\"internal\",\"status\", \"count(*)\"], axis=\"columns\")\n",
    "user_counts.loc(0)[0]"
   ]
  },
  {
   "cell_type": "code",
   "execution_count": 36,
   "id": "934e4f0f-7711-4d47-b1e0-2670fe0f5970",
   "metadata": {},
   "outputs": [],
   "source": [
    "user_counts.to_csv(\"output/user_counts.csv\", index=False)"
   ]
  },
  {
   "cell_type": "markdown",
   "id": "1e93c312-8880-43b4-8876-be8d0ba189cd",
   "metadata": {},
   "source": [
    "## Merge users and platforms"
   ]
  },
  {
   "cell_type": "code",
   "execution_count": 45,
   "id": "faef7ace-b96c-4e27-a2df-9869f974d215",
   "metadata": {},
   "outputs": [],
   "source": [
    "def merge_users_and_platforms(up_file, u_file, res_file):\n",
    "    updf = pd.read_csv(up_file, na_values=[\"(null)\"])\n",
    "    \n",
    "    updf = updf[updf[\"display_name\"].notna()]\n",
    "    updf = updf.drop([\"name\", \"application\", \"internal\"], axis=1)\n",
    "    updf = updf.rename(columns={\"display_name\":\"platforms\"})\n",
    "    updf = updf.groupby(\"username\")[\"platforms\"].agg(set).reindex()\n",
    "    \n",
    "    \n",
    "    udf = pd.read_csv(u_file)\n",
    "    \n",
    "    udf = pd.merge(udf, updf, on=[\"username\"], how=\"left\")\n",
    "    \n",
    "    # udf.head()\n",
    "    # udf.index.size\n",
    "    \n",
    "    udf.to_csv(res_file)"
   ]
  },
  {
   "cell_type": "code",
   "execution_count": 46,
   "id": "f42de028-be69-49d6-bf41-c5c57da58947",
   "metadata": {},
   "outputs": [],
   "source": [
    "user_platforms_file = \"../data/1c/1C_Api_Users_Active_In_Last30_With_Roles.csv\"\n",
    "users_file = \"../data/1c/2024-10-15-Users - ActiveApiUsersLast30Days.csv\"\n",
    "user_res_file = \"./output/api_active_30d_with_platform.csv\"\n",
    "\n",
    "merge_users_and_platforms(user_platforms_file, users_file, user_res_file)"
   ]
  },
  {
   "cell_type": "code",
   "execution_count": 47,
   "id": "7508f5af-5f53-47bd-a1f4-5e87ce7bbbb3",
   "metadata": {},
   "outputs": [],
   "source": [
    "user_platforms_file = \"../data/1c/1C_Users_Active_In_Last30_With_Roles.csv\"\n",
    "users_file = \"../data/1c/2024-10-15-Users - ActiveUsersLast30Days.csv\"\n",
    "user_res_file = \"./output/active_30d_with_platform.csv\"\n",
    "\n",
    "merge_users_and_platforms(user_platforms_file, users_file, user_res_file)"
   ]
  },
  {
   "cell_type": "code",
   "execution_count": 48,
   "id": "b8c0e59e-194a-496f-9dd2-7389accc71d9",
   "metadata": {},
   "outputs": [],
   "source": [
    "user_platforms_file = \"../data/1c/1C_OIDC_Users_Active_With_Roles.csv\"\n",
    "users_file = \"../data/1c/2024-10-15-Users - OIDC Users.csv\"\n",
    "user_res_file = \"./output/active_oidc_with_platform.csv\"\n",
    "\n",
    "\n",
    "merge_users_and_platforms(user_platforms_file, users_file, user_res_file)"
   ]
  }
 ],
 "metadata": {
  "kernelspec": {
   "display_name": "Python 3 (ipykernel)",
   "language": "python",
   "name": "python3"
  },
  "language_info": {
   "codemirror_mode": {
    "name": "ipython",
    "version": 3
   },
   "file_extension": ".py",
   "mimetype": "text/x-python",
   "name": "python",
   "nbconvert_exporter": "python",
   "pygments_lexer": "ipython3",
   "version": "3.12.2"
  }
 },
 "nbformat": 4,
 "nbformat_minor": 5
}
