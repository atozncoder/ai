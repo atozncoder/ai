{
 "cells": [
  {
   "cell_type": "code",
   "execution_count": 1,
   "id": "df46e732-885e-40b1-9d97-d243fdcadab4",
   "metadata": {},
   "outputs": [],
   "source": [
    "import pandas as pd"
   ]
  },
  {
   "cell_type": "code",
   "execution_count": 34,
   "id": "862bc131-6875-4ff9-b5c7-dd5503353b95",
   "metadata": {},
   "outputs": [
    {
     "name": "stderr",
     "output_type": "stream",
     "text": [
      "<>:1: SyntaxWarning: invalid escape sequence '\\s'\n",
      "<>:1: SyntaxWarning: invalid escape sequence '\\s'\n",
      "/tmp/ipykernel_1059/4017009777.py:1: SyntaxWarning: invalid escape sequence '\\s'\n",
      "  user_counts = pd.read_csv(\"../data/1c/1C_Users_Counts.csv\", sep=\"\\s+\")\n"
     ]
    },
    {
     "data": {
      "text/plain": [
       "LastLoginDateExists      False\n",
       "ApiUser                  False\n",
       "Internal                 False\n",
       "Status                 DELETED\n",
       "Cnt                        325\n",
       "Name: 0, dtype: object"
      ]
     },
     "execution_count": 34,
     "metadata": {},
     "output_type": "execute_result"
    }
   ],
   "source": [
    "user_counts = pd.read_csv(\"../data/1c/1C_Users_Counts.csv\", sep=\"\\s+\")\n",
    "user_counts[\"LastLoginDateExists\"] = user_counts[\"lld\"] == 1\n",
    "user_counts[\"ApiUser\"] = user_counts[\"is_system_user\"]\n",
    "user_counts[\"Internal\"] = user_counts[\"internal\"] == 1\n",
    "user_counts[\"Status\"] = user_counts[\"status\"]\n",
    "user_counts[\"Cnt\"] = user_counts[\"count(*)\"]\n",
    "user_counts = user_counts.reindex(columns=[\"LastLoginDateExists\", \"lld\", \"ApiUser\", \"is_system_user\", \"Internal\", \"internal\", \"Status\", \"status\", \"Cnt\", \"count(*)\"])\n",
    "user_counts = user_counts.sort_values(by = [\"LastLoginDateExists\", \"ApiUser\", \"Internal\", \"Status\"], ascending=[False, True, True, True])\n",
    "user_counts = user_counts.drop([\"lld\",\"is_system_user\",\"internal\",\"status\", \"count(*)\"], axis=\"columns\")\n",
    "user_counts.loc(0)[0]"
   ]
  },
  {
   "cell_type": "code",
   "execution_count": 36,
   "id": "934e4f0f-7711-4d47-b1e0-2670fe0f5970",
   "metadata": {},
   "outputs": [],
   "source": [
    "user_counts.to_csv(\"output/user_counts.csv\", index=False)"
   ]
  }
 ],
 "metadata": {
  "kernelspec": {
   "display_name": "Python 3 (ipykernel)",
   "language": "python",
   "name": "python3"
  },
  "language_info": {
   "codemirror_mode": {
    "name": "ipython",
    "version": 3
   },
   "file_extension": ".py",
   "mimetype": "text/x-python",
   "name": "python",
   "nbconvert_exporter": "python",
   "pygments_lexer": "ipython3",
   "version": "3.12.2"
  }
 },
 "nbformat": 4,
 "nbformat_minor": 5
}
