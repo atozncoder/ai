{
 "cells": [
  {
   "cell_type": "code",
   "execution_count": 13,
   "id": "5a798834-9c71-4e10-8aa4-250d9aeb0cc7",
   "metadata": {},
   "outputs": [],
   "source": [
    "import pandas as pd\n",
    "import json"
   ]
  },
  {
   "cell_type": "code",
   "execution_count": 2,
   "id": "8ec26122-9db9-4ffb-964f-8864e7abe23a",
   "metadata": {},
   "outputs": [],
   "source": [
    "usernames = pd.read_json(\"../data/1c/1C_API_Users_Active.json\")"
   ]
  },
  {
   "cell_type": "code",
   "execution_count": 10,
   "id": "c9ea285c-b3fe-4eb6-bbc2-b6d8c6dfa30a",
   "metadata": {},
   "outputs": [
    {
     "data": {
      "text/plain": [
       "'f8b858ca-aaa9-434d-a654-5b96b81b5cf8'"
      ]
     },
     "execution_count": 10,
     "metadata": {},
     "output_type": "execute_result"
    }
   ],
   "source": [
    "usernames[\"username\"][0]"
   ]
  },
  {
   "cell_type": "code",
   "execution_count": 37,
   "id": "2ed897cc-ea92-40df-af46-5788d62b5c0a",
   "metadata": {},
   "outputs": [
    {
     "name": "stdout",
     "output_type": "stream",
     "text": [
      "cnt: 1\n",
      "Loading username: f8b858ca-aaa9-434d-a654-5b96b81b5cf8\n",
      "success\n"
     ]
    }
   ],
   "source": [
    "import requests\n",
    "import time\n",
    "headers = {\"Authorization\": \"Bearer XXXX\"}\n",
    "\n",
    "def load_user(username):\n",
    "    endpoint = f\"https://oneapi.aol.com/one-central/user-management/v4/users/{username}?organizationId=0\"\n",
    "    result = requests.get(endpoint, headers=headers).json()\n",
    "    # print(result)\n",
    "    return result\n",
    "\n",
    "def load_and_save_user(username):\n",
    "    output_file = f\"output/users/{username}.json\"\n",
    "    user = load_user(username)\n",
    "    with open(output_file, 'w') as outfile:\n",
    "        json.dump(user, outfile)\n",
    "\n",
    "cnt = 0\n",
    "\n",
    "for username in usernames.iloc[:1][\"username\"]:\n",
    "    cnt = cnt + 1\n",
    "    print(f\"cnt: {cnt}\")\n",
    "    print(f\"Loading username: {username}\")\n",
    "    load_and_save_user(username)\n",
    "    time.sleep(0.05)\n",
    "    \n",
    "print(\"success\")"
   ]
  },
  {
   "cell_type": "code",
   "execution_count": 26,
   "id": "99eaa6a2-4e53-4176-b14d-c4f67134d969",
   "metadata": {},
   "outputs": [
    {
     "name": "stdout",
     "output_type": "stream",
     "text": [
      "Error -----------------\n",
      "                                                           0\n",
      "timestamp                                      1728980733102\n",
      "status                                                   500\n",
      "error                                  Internal Server Error\n",
      "path       /one-central/user-management/v4/users/3d4f3923...\n",
      "Error -----------------\n",
      "                                                           0\n",
      "timestamp                                      1728979245541\n",
      "status                                                   500\n",
      "error                                  Internal Server Error\n",
      "path       /one-central/user-management/v4/users/0634cd5a...\n",
      "Error -----------------\n",
      "                                                           0\n",
      "timestamp                                      1728980346064\n",
      "status                                                   500\n",
      "error                                  Internal Server Error\n",
      "path       /one-central/user-management/v4/users/0d064f8c...\n",
      "Error -----------------\n",
      "                                                           0\n",
      "timestamp                                      1728980040723\n",
      "status                                                   500\n",
      "error                                  Internal Server Error\n",
      "path       /one-central/user-management/v4/users/4a51c1ef...\n",
      "Error -----------------\n",
      "                                                           0\n",
      "timestamp                                      1728979286719\n",
      "status                                                   500\n",
      "error                                  Internal Server Error\n",
      "path       /one-central/user-management/v4/users/58bf2e23...\n",
      "Error -----------------\n",
      "                                                           0\n",
      "timestamp                                      1728979079467\n",
      "status                                                   500\n",
      "error                                  Internal Server Error\n",
      "path       /one-central/user-management/v4/users/431a4e62...\n"
     ]
    }
   ],
   "source": [
    "import glob\n",
    "import pandas as pd\n",
    "\n",
    "path = r'output/users/'\n",
    "filenames = glob.glob(path + \"/*.json\")\n",
    "\n",
    "users = []\n",
    "for filename in filenames:\n",
    "    users.append(pd.read_json(filename, orient='index'))\n",
    "\n",
    "openid_users = []\n",
    "for user in users:\n",
    "    # print(user.loc(0)['scopes'][0])\n",
    "    # print(f\"{user[0].username} - {user[0].scopes}\")\n",
    "    try: \n",
    "        if 'openid' in user[0].scopes: \n",
    "            # print(f\"{user[0].username} - {user[0].scopes}\")\n",
    "            openid_users.append(user[0].username)\n",
    "    except:\n",
    "        print(f\"Error -----------------\")\n",
    "        print(user)\n",
    "\n",
    "openid_users\n",
    "\n",
    "df = pd.DataFrame(openid_users, columns=['usernames'])\n",
    "\n",
    "df.to_csv(\"output/openid_users.csv\", index = False)"
   ]
  },
  {
   "cell_type": "code",
   "execution_count": 35,
   "id": "c3175cb1-3192-479c-9609-a690743cc470",
   "metadata": {},
   "outputs": [
    {
     "data": {
      "text/plain": [
       "['output/users/3d4f3923-f9db-42ed-9249-1a46d2e23185.json',\n",
       " 'output/users/0634cd5a-b8c2-4727-9062-45638fc22579.json',\n",
       " 'output/users/0d064f8c-332c-4c36-b532-13f270cd57bb.json',\n",
       " 'output/users/4a51c1ef-4d0d-47cf-b230-b1f36475317b.json',\n",
       " 'output/users/58bf2e23-ade2-4493-a955-5823bbe4ff2e.json',\n",
       " 'output/users/431a4e62-fccf-46a5-bbc4-8912314b9617.json']"
      ]
     },
     "execution_count": 35,
     "metadata": {},
     "output_type": "execute_result"
    }
   ],
   "source": [
    "import glob\n",
    "import pandas as pd\n",
    "\n",
    "path = r'output/users/'\n",
    "filenames = glob.glob(path + \"/*.json\")\n",
    "\n",
    "users = []\n",
    "for filename in filenames:\n",
    "    if filename.startswith(\"output/users/3d4f3923\") or filename.startswith(\"output/users/0634cd5a\") or filename.startswith(\"output/users/0d064f8c\") or filename.startswith(\"output/users/4a51c1ef\") or filename.startswith(\"output/users/58bf2e23\") or filename.startswith(\"output/users/431a4e62\"):\n",
    "        users.append(pd.read_json(filename, orient='index'))\n",
    "\n",
    "# Users with erro in JSON. In UI there is error for these users. \n",
    "users"
   ]
  }
 ],
 "metadata": {
  "kernelspec": {
   "display_name": "Python 3 (ipykernel)",
   "language": "python",
   "name": "python3"
  },
  "language_info": {
   "codemirror_mode": {
    "name": "ipython",
    "version": 3
   },
   "file_extension": ".py",
   "mimetype": "text/x-python",
   "name": "python",
   "nbconvert_exporter": "python",
   "pygments_lexer": "ipython3",
   "version": "3.12.2"
  }
 },
 "nbformat": 4,
 "nbformat_minor": 5
}
