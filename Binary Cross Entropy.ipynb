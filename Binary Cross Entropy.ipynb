{
 "cells": [
  {
   "cell_type": "code",
   "execution_count": 2,
   "id": "c2f732fb-d1fe-4332-8b47-21bd70f1ee9c",
   "metadata": {},
   "outputs": [],
   "source": [
    "import fastbook\n",
    "fastbook.setup_book()\n",
    "from fastai.vision.all import *\n",
    "from fastbook import plot_function"
   ]
  },
  {
   "cell_type": "code",
   "execution_count": 1,
   "id": "5b6d4b42-d6eb-4e84-ba5c-622c5d3706a7",
   "metadata": {},
   "outputs": [],
   "source": [
    "def binary_cross_entropy(inputs, targets):\n",
    "    inputs = inputs.sigmoid()\n",
    "    return -torch.where(targets==1, inputs, 1-inputs).log().mean()"
   ]
  },
  {
   "cell_type": "code",
   "execution_count": 3,
   "id": "7d10c2c3-63bd-48ce-8b4a-2696f03c091f",
   "metadata": {},
   "outputs": [
    {
     "data": {
      "text/plain": [
       "<torch._C.Generator at 0xffff67740310>"
      ]
     },
     "execution_count": 3,
     "metadata": {},
     "output_type": "execute_result"
    }
   ],
   "source": [
    "torch.random.manual_seed(42)"
   ]
  },
  {
   "cell_type": "code",
   "execution_count": 25,
   "id": "8c20b5a5-ef1a-43a3-8517-71385130ac68",
   "metadata": {},
   "outputs": [],
   "source": [
    "acts = torch.randn((6,2)) * 2"
   ]
  },
  {
   "cell_type": "code",
   "execution_count": 5,
   "id": "b5d86122-9b90-463f-947d-947c25afb806",
   "metadata": {},
   "outputs": [
    {
     "data": {
      "text/plain": [
       "tensor([[ 0.6734,  0.2576],\n",
       "        [ 0.4689,  0.4607],\n",
       "        [-2.2457, -0.3727],\n",
       "        [ 4.4164, -1.2760],\n",
       "        [ 0.9233,  0.5347],\n",
       "        [ 1.0698,  1.6187]])"
      ]
     },
     "execution_count": 5,
     "metadata": {},
     "output_type": "execute_result"
    }
   ],
   "source": [
    "acts"
   ]
  },
  {
   "cell_type": "code",
   "execution_count": 6,
   "id": "43e18838-d1ab-43ba-8769-a499a12add01",
   "metadata": {},
   "outputs": [
    {
     "data": {
      "text/plain": [
       "tensor([[0.6623, 0.5641],\n",
       "        [0.6151, 0.6132],\n",
       "        [0.0957, 0.4079],\n",
       "        [0.9881, 0.2182],\n",
       "        [0.7157, 0.6306],\n",
       "        [0.7446, 0.8346]])"
      ]
     },
     "execution_count": 6,
     "metadata": {},
     "output_type": "execute_result"
    }
   ],
   "source": [
    "acts.sigmoid()"
   ]
  },
  {
   "cell_type": "code",
   "execution_count": 27,
   "id": "d30ffc1e-b980-439d-a336-88a00905063e",
   "metadata": {},
   "outputs": [],
   "source": [
    "targ = tensor([[0,1],[1,1],[0,0],[1,0],[1,0],[0,0]])"
   ]
  },
  {
   "cell_type": "code",
   "execution_count": 41,
   "id": "8b1d15c6-3323-41eb-9883-12c79b3bd86d",
   "metadata": {},
   "outputs": [
    {
     "data": {
      "text/plain": [
       "tensor(0.6971)"
      ]
     },
     "execution_count": 41,
     "metadata": {},
     "output_type": "execute_result"
    }
   ],
   "source": [
    "loss = binary_cross_entropy(acts, targ)\n",
    "loss"
   ]
  },
  {
   "cell_type": "code",
   "execution_count": 29,
   "id": "eeed2efc-123d-455c-a23e-2460392be475",
   "metadata": {},
   "outputs": [
    {
     "data": {
      "text/plain": [
       "tensor([[ 2.5317, -1.5012],\n",
       "        [ 2.7051,  1.3726],\n",
       "        [ 1.6555, -0.5899],\n",
       "        [ 0.5630,  0.8877],\n",
       "        [ 1.0454,  1.4767],\n",
       "        [ 1.0998, -0.0527]])"
      ]
     },
     "execution_count": 29,
     "metadata": {},
     "output_type": "execute_result"
    }
   ],
   "source": [
    "torch.where(targ==1, acts, 1-acts)"
   ]
  },
  {
   "cell_type": "code",
   "execution_count": 30,
   "id": "0cf86d7d-9e0c-4c77-bceb-dc7525dbebc6",
   "metadata": {},
   "outputs": [
    {
     "data": {
      "text/plain": [
       "tensor([[0, 1],\n",
       "        [1, 1],\n",
       "        [0, 0],\n",
       "        [1, 0],\n",
       "        [1, 0],\n",
       "        [0, 0]])"
      ]
     },
     "execution_count": 30,
     "metadata": {},
     "output_type": "execute_result"
    }
   ],
   "source": [
    "a = torch.where(targ == 1, 1, 0)\n",
    "a"
   ]
  },
  {
   "cell_type": "code",
   "execution_count": 37,
   "id": "30b07b32-116f-4475-8f0b-cb06494fc164",
   "metadata": {},
   "outputs": [
    {
     "data": {
      "text/plain": [
       "tensor(0.6971)"
      ]
     },
     "execution_count": 37,
     "metadata": {},
     "output_type": "execute_result"
    }
   ],
   "source": [
    "loss2 = F.binary_cross_entropy(acts.sigmoid().float(), targ.float())\n",
    "loss2"
   ]
  },
  {
   "cell_type": "code",
   "execution_count": 40,
   "id": "8fb75bbf-5435-4fd3-99f6-8c85037d9bc7",
   "metadata": {},
   "outputs": [
    {
     "data": {
      "text/plain": [
       "tensor(0.6971)"
      ]
     },
     "execution_count": 40,
     "metadata": {},
     "output_type": "execute_result"
    }
   ],
   "source": [
    "loss3 = F.binary_cross_entropy_with_logits(acts.float(), targ.float())\n",
    "loss3"
   ]
  }
 ],
 "metadata": {
  "kernelspec": {
   "display_name": "Python 3 (ipykernel)",
   "language": "python",
   "name": "python3"
  },
  "language_info": {
   "codemirror_mode": {
    "name": "ipython",
    "version": 3
   },
   "file_extension": ".py",
   "mimetype": "text/x-python",
   "name": "python",
   "nbconvert_exporter": "python",
   "pygments_lexer": "ipython3",
   "version": "3.12.2"
  }
 },
 "nbformat": 4,
 "nbformat_minor": 5
}
