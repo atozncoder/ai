{
 "cells": [
  {
   "cell_type": "code",
   "execution_count": 2,
   "id": "8d4c46e0-07b9-4a4d-a3a1-eb2ae42d3291",
   "metadata": {},
   "outputs": [],
   "source": [
    "import numpy as np\n",
    "import pandas as pd"
   ]
  },
  {
   "cell_type": "code",
   "execution_count": 3,
   "id": "48a6a83b-65ea-425f-aadb-f4ba653abbe7",
   "metadata": {},
   "outputs": [],
   "source": [
    "df = pd.DataFrame({\"key1\": [\"a\",\"a\", None, \"b\",\"b\", \"a\", None], \n",
    "                  \"key2\": pd.Series([1,2,1,2,1,None,1], dtype=\"Int64\"), \n",
    "                  \"data1\": np.random.standard_normal(7),  \n",
    "                  \"data2\": np.random.standard_normal(7)})"
   ]
  },
  {
   "cell_type": "code",
   "execution_count": 4,
   "id": "89c85008-0afa-4e64-94c3-2776ca1c0917",
   "metadata": {},
   "outputs": [
    {
     "data": {
      "text/html": [
       "<div>\n",
       "<style scoped>\n",
       "    .dataframe tbody tr th:only-of-type {\n",
       "        vertical-align: middle;\n",
       "    }\n",
       "\n",
       "    .dataframe tbody tr th {\n",
       "        vertical-align: top;\n",
       "    }\n",
       "\n",
       "    .dataframe thead th {\n",
       "        text-align: right;\n",
       "    }\n",
       "</style>\n",
       "<table border=\"1\" class=\"dataframe\">\n",
       "  <thead>\n",
       "    <tr style=\"text-align: right;\">\n",
       "      <th></th>\n",
       "      <th>key1</th>\n",
       "      <th>key2</th>\n",
       "      <th>data1</th>\n",
       "      <th>data2</th>\n",
       "    </tr>\n",
       "  </thead>\n",
       "  <tbody>\n",
       "    <tr>\n",
       "      <th>0</th>\n",
       "      <td>a</td>\n",
       "      <td>1</td>\n",
       "      <td>0.082010</td>\n",
       "      <td>0.610542</td>\n",
       "    </tr>\n",
       "    <tr>\n",
       "      <th>1</th>\n",
       "      <td>a</td>\n",
       "      <td>2</td>\n",
       "      <td>1.846578</td>\n",
       "      <td>0.900915</td>\n",
       "    </tr>\n",
       "    <tr>\n",
       "      <th>2</th>\n",
       "      <td>None</td>\n",
       "      <td>1</td>\n",
       "      <td>-1.411299</td>\n",
       "      <td>0.355846</td>\n",
       "    </tr>\n",
       "    <tr>\n",
       "      <th>3</th>\n",
       "      <td>b</td>\n",
       "      <td>2</td>\n",
       "      <td>-0.151282</td>\n",
       "      <td>1.284676</td>\n",
       "    </tr>\n",
       "    <tr>\n",
       "      <th>4</th>\n",
       "      <td>b</td>\n",
       "      <td>1</td>\n",
       "      <td>-0.461634</td>\n",
       "      <td>0.863540</td>\n",
       "    </tr>\n",
       "    <tr>\n",
       "      <th>5</th>\n",
       "      <td>a</td>\n",
       "      <td>&lt;NA&gt;</td>\n",
       "      <td>-0.636027</td>\n",
       "      <td>2.036740</td>\n",
       "    </tr>\n",
       "    <tr>\n",
       "      <th>6</th>\n",
       "      <td>None</td>\n",
       "      <td>1</td>\n",
       "      <td>-1.202328</td>\n",
       "      <td>-0.329614</td>\n",
       "    </tr>\n",
       "  </tbody>\n",
       "</table>\n",
       "</div>"
      ],
      "text/plain": [
       "   key1  key2     data1     data2\n",
       "0     a     1  0.082010  0.610542\n",
       "1     a     2  1.846578  0.900915\n",
       "2  None     1 -1.411299  0.355846\n",
       "3     b     2 -0.151282  1.284676\n",
       "4     b     1 -0.461634  0.863540\n",
       "5     a  <NA> -0.636027  2.036740\n",
       "6  None     1 -1.202328 -0.329614"
      ]
     },
     "execution_count": 4,
     "metadata": {},
     "output_type": "execute_result"
    }
   ],
   "source": [
    "df"
   ]
  },
  {
   "cell_type": "code",
   "execution_count": 7,
   "id": "effab2ef-a73c-4fd0-b91f-3f2b8b3f586a",
   "metadata": {},
   "outputs": [
    {
     "name": "stdout",
     "output_type": "stream",
     "text": [
      "a\n",
      "  key1  key2     data1     data2\n",
      "0    a     1  0.082010  0.610542\n",
      "1    a     2  1.846578  0.900915\n",
      "5    a  <NA> -0.636027  2.036740\n",
      "b\n",
      "  key1  key2     data1     data2\n",
      "3    b     2 -0.151282  1.284676\n",
      "4    b     1 -0.461634  0.863540\n"
     ]
    }
   ],
   "source": [
    "for name, group in df.groupby(\"key1\"):\n",
    "    print(name)\n",
    "    print(group)"
   ]
  }
 ],
 "metadata": {
  "kernelspec": {
   "display_name": "Python 3 (ipykernel)",
   "language": "python",
   "name": "python3"
  },
  "language_info": {
   "codemirror_mode": {
    "name": "ipython",
    "version": 3
   },
   "file_extension": ".py",
   "mimetype": "text/x-python",
   "name": "python",
   "nbconvert_exporter": "python",
   "pygments_lexer": "ipython3",
   "version": "3.12.2"
  }
 },
 "nbformat": 4,
 "nbformat_minor": 5
}
