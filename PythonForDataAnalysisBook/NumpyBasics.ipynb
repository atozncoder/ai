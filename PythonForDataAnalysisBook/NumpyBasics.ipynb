{
 "cells": [
  {
   "cell_type": "code",
   "execution_count": 1,
   "id": "71e6a8ca-37ab-44ca-baae-2d48ae091330",
   "metadata": {},
   "outputs": [],
   "source": [
    "import numpy as np"
   ]
  },
  {
   "cell_type": "code",
   "execution_count": 2,
   "id": "12df5fc1-683d-4580-8d67-bd3cd8c68cef",
   "metadata": {},
   "outputs": [],
   "source": [
    "my_array = np.arange(1_000_000)\n",
    "my_list = list(range(1_000_000))"
   ]
  },
  {
   "cell_type": "code",
   "execution_count": 3,
   "id": "0b240ec4-af82-4a77-81cf-6b9c34ff3c50",
   "metadata": {},
   "outputs": [
    {
     "name": "stdout",
     "output_type": "stream",
     "text": [
      "331 μs ± 9.49 μs per loop (mean ± std. dev. of 7 runs, 1,000 loops each)\n"
     ]
    }
   ],
   "source": [
    "%timeit my_array_2 = my_array * 2"
   ]
  },
  {
   "cell_type": "code",
   "execution_count": 4,
   "id": "6e670b11-6f39-4695-a303-116e2c730356",
   "metadata": {},
   "outputs": [
    {
     "name": "stdout",
     "output_type": "stream",
     "text": [
      "23.9 ms ± 86.1 μs per loop (mean ± std. dev. of 7 runs, 10 loops each)\n"
     ]
    }
   ],
   "source": [
    "%timeit my_list_2 = [x*2 for x in my_list]"
   ]
  },
  {
   "cell_type": "code",
   "execution_count": 5,
   "id": "03fed72c-74a0-4c02-936f-d598e6008086",
   "metadata": {},
   "outputs": [
    {
     "data": {
      "text/plain": [
       "array([[1, 2, 3],\n",
       "       [4, 5, 6],\n",
       "       [7, 8, 9]])"
      ]
     },
     "execution_count": 5,
     "metadata": {},
     "output_type": "execute_result"
    }
   ],
   "source": [
    "arra2d = np.array([[1,2,3],[4,5,6],[7,8,9]])\n",
    "arra2d"
   ]
  },
  {
   "cell_type": "code",
   "execution_count": 6,
   "id": "cf0f557e-d6a3-413b-be40-947c1f340d51",
   "metadata": {},
   "outputs": [
    {
     "data": {
      "text/plain": [
       "(array([[[ 1,  2,  3],\n",
       "         [ 4,  5,  6]],\n",
       " \n",
       "        [[ 7,  8,  9],\n",
       "         [10, 11, 12]]]),\n",
       " (2, 2, 3))"
      ]
     },
     "execution_count": 6,
     "metadata": {},
     "output_type": "execute_result"
    }
   ],
   "source": [
    "array3d = np.array([[[1,2,3],[4,5,6]],[[7,8,9],[10,11,12]]])\n",
    "array3d, array3d.shape"
   ]
  },
  {
   "cell_type": "code",
   "execution_count": 7,
   "id": "977d0ec5-1efc-4c73-b33e-c50c6ef2fe0d",
   "metadata": {},
   "outputs": [
    {
     "data": {
      "text/plain": [
       "array([[1, 2, 3],\n",
       "       [4, 5, 6]])"
      ]
     },
     "execution_count": 7,
     "metadata": {},
     "output_type": "execute_result"
    }
   ],
   "source": [
    "# Slice along first axes - rows\n",
    "arra2d[:2]"
   ]
  },
  {
   "cell_type": "code",
   "execution_count": 8,
   "id": "c4d34ae2-020d-444a-8c6d-9cd425b9557c",
   "metadata": {},
   "outputs": [
    {
     "data": {
      "text/plain": [
       "array([[2, 3],\n",
       "       [5, 6],\n",
       "       [8, 9]])"
      ]
     },
     "execution_count": 8,
     "metadata": {},
     "output_type": "execute_result"
    }
   ],
   "source": [
    "# Slice along second axes - columns\n",
    "arra2d[:,1:]"
   ]
  },
  {
   "cell_type": "code",
   "execution_count": 9,
   "id": "1a57a703-41d6-496d-a32d-79976932e538",
   "metadata": {},
   "outputs": [
    {
     "data": {
      "text/plain": [
       "array([[2, 3],\n",
       "       [5, 6]])"
      ]
     },
     "execution_count": 9,
     "metadata": {},
     "output_type": "execute_result"
    }
   ],
   "source": [
    "# Slice along both:\n",
    "arra2d[:2, 1:]"
   ]
  },
  {
   "cell_type": "code",
   "execution_count": 10,
   "id": "a3b624b5-b6ac-4ff6-a99b-f3d13a0b3c37",
   "metadata": {},
   "outputs": [
    {
     "data": {
      "text/plain": [
       "(array([5, 6]), (2,))"
      ]
     },
     "execution_count": 10,
     "metadata": {},
     "output_type": "execute_result"
    }
   ],
   "source": [
    "# To get lower dim slice at least one of the slice params must be integer:\n",
    "lower_dim_slice = arra2d[1,1:]\n",
    "lower_dim_slice, lower_dim_slice.shape"
   ]
  },
  {
   "cell_type": "code",
   "execution_count": 11,
   "id": "9aeb0722-cd6f-480a-bc40-a0e4b52fb580",
   "metadata": {},
   "outputs": [
    {
     "data": {
      "text/plain": [
       "(array(['Bob', 'Joe', 'Will', 'Bob', 'Will', 'Joe', 'Joe'], dtype='<U4'),\n",
       " array([[  4,   7],\n",
       "        [  0,   2],\n",
       "        [ -5,   6],\n",
       "        [  0,   0],\n",
       "        [  1,   2],\n",
       "        [-12,  -4],\n",
       "        [  3,   4]]))"
      ]
     },
     "execution_count": 11,
     "metadata": {},
     "output_type": "execute_result"
    }
   ],
   "source": [
    "names = np.array([\"Bob\", \"Joe\", \"Will\", \"Bob\", \"Will\", \"Joe\", \"Joe\"])\n",
    "\n",
    "data = np.array([[4, 7], [0, 2], [-5, 6], [0, 0], [1, 2], [-12, -4], [3, 4]])\n",
    "\n",
    "names, data"
   ]
  },
  {
   "cell_type": "code",
   "execution_count": 12,
   "id": "9ff8c75a-18ad-4208-87d8-7085626dcca7",
   "metadata": {},
   "outputs": [
    {
     "data": {
      "text/plain": [
       "array([[4, 7],\n",
       "       [0, 0]])"
      ]
     },
     "execution_count": 12,
     "metadata": {},
     "output_type": "execute_result"
    }
   ],
   "source": [
    "data[names == \"Bob\"]"
   ]
  },
  {
   "cell_type": "code",
   "execution_count": 13,
   "id": "9bad7f16-26c1-46e4-b47a-aae952ad0f71",
   "metadata": {},
   "outputs": [
    {
     "data": {
      "text/plain": [
       "(array([[7],\n",
       "        [0]]),\n",
       " array([7, 0]))"
      ]
     },
     "execution_count": 13,
     "metadata": {},
     "output_type": "execute_result"
    }
   ],
   "source": [
    "data[names == \"Bob\", 1:], data[names == \"Bob\", 1]"
   ]
  },
  {
   "cell_type": "code",
   "execution_count": 14,
   "id": "779c72c3-8af9-4c97-b0d3-2349ea442d28",
   "metadata": {},
   "outputs": [],
   "source": [
    "bobs = data[names == \"Bob\"].copy()"
   ]
  },
  {
   "cell_type": "code",
   "execution_count": 15,
   "id": "f7087a08-9946-4c64-924b-dfbd7117b300",
   "metadata": {},
   "outputs": [
    {
     "data": {
      "text/plain": [
       "array([[0, 0]])"
      ]
     },
     "execution_count": 15,
     "metadata": {},
     "output_type": "execute_result"
    }
   ],
   "source": [
    "bobs[1:]"
   ]
  },
  {
   "cell_type": "code",
   "execution_count": 16,
   "id": "b726600f-b023-408b-b8da-81a82aaf0787",
   "metadata": {},
   "outputs": [
    {
     "data": {
      "text/plain": [
       "(array([[  0,   2],\n",
       "        [ -5,   6],\n",
       "        [  1,   2],\n",
       "        [-12,  -4],\n",
       "        [  3,   4]]),\n",
       " array([[  0,   2],\n",
       "        [ -5,   6],\n",
       "        [  1,   2],\n",
       "        [-12,  -4],\n",
       "        [  3,   4]]))"
      ]
     },
     "execution_count": 16,
     "metadata": {},
     "output_type": "execute_result"
    }
   ],
   "source": [
    "data[names != \"Bob\"], data[~(names == \"Bob\")]"
   ]
  },
  {
   "cell_type": "code",
   "execution_count": 17,
   "id": "ef45a994-f67c-4e67-8b8a-74dd6476c539",
   "metadata": {},
   "outputs": [
    {
     "data": {
      "text/plain": [
       "array([[  0,   2],\n",
       "       [ -5,   6],\n",
       "       [  1,   2],\n",
       "       [-12,  -4],\n",
       "       [  3,   4]])"
      ]
     },
     "execution_count": 17,
     "metadata": {},
     "output_type": "execute_result"
    }
   ],
   "source": [
    "cond = names == \"Bob\"\n",
    "data[~cond]"
   ]
  },
  {
   "cell_type": "code",
   "execution_count": 18,
   "id": "3edb6947-f8f6-4e74-8d13-f7ee234410ce",
   "metadata": {},
   "outputs": [
    {
     "data": {
      "text/plain": [
       "(array([ True, False,  True,  True,  True, False, False]),\n",
       " array([[ 4,  7],\n",
       "        [-5,  6],\n",
       "        [ 0,  0],\n",
       "        [ 1,  2]]))"
      ]
     },
     "execution_count": 18,
     "metadata": {},
     "output_type": "execute_result"
    }
   ],
   "source": [
    "# Multiple boalen values\n",
    "mask = (names == \"Bob\") | (names == \"Will\")\n",
    "mask, data[mask]"
   ]
  },
  {
   "cell_type": "code",
   "execution_count": 19,
   "id": "6f12c259-9660-48cc-adf2-0dad3db85009",
   "metadata": {},
   "outputs": [
    {
     "data": {
      "text/plain": [
       "array([[0., 0., 0., 0.],\n",
       "       [1., 1., 1., 1.],\n",
       "       [2., 2., 2., 2.],\n",
       "       [3., 3., 3., 3.],\n",
       "       [4., 4., 4., 4.],\n",
       "       [5., 5., 5., 5.],\n",
       "       [6., 6., 6., 6.],\n",
       "       [7., 7., 7., 7.]])"
      ]
     },
     "execution_count": 19,
     "metadata": {},
     "output_type": "execute_result"
    }
   ],
   "source": [
    "arr = np.zeros((8,4))\n",
    "\n",
    "for i in range(8):\n",
    "    arr[i] = i\n",
    "\n",
    "arr"
   ]
  },
  {
   "cell_type": "code",
   "execution_count": 20,
   "id": "9b204a64-0244-4dcc-a425-594b7355f2b5",
   "metadata": {},
   "outputs": [
    {
     "data": {
      "text/plain": [
       "array([[4., 4., 4., 4.],\n",
       "       [3., 3., 3., 3.],\n",
       "       [0., 0., 0., 0.],\n",
       "       [6., 6., 6., 6.]])"
      ]
     },
     "execution_count": 20,
     "metadata": {},
     "output_type": "execute_result"
    }
   ],
   "source": [
    "# Fancy indexing\n",
    "arr[[4,3,0,6]]"
   ]
  },
  {
   "cell_type": "code",
   "execution_count": 21,
   "id": "af641e8d-84dd-4cce-b1cb-7152a0eddcd1",
   "metadata": {},
   "outputs": [
    {
     "data": {
      "text/plain": [
       "array([[5., 5., 5., 5.],\n",
       "       [3., 3., 3., 3.],\n",
       "       [1., 1., 1., 1.]])"
      ]
     },
     "execution_count": 21,
     "metadata": {},
     "output_type": "execute_result"
    }
   ],
   "source": [
    "arr[[-3,-5,-7]]"
   ]
  },
  {
   "cell_type": "code",
   "execution_count": 22,
   "id": "cd6ebd1f-b056-48d3-bd2f-0676371a9cf2",
   "metadata": {},
   "outputs": [
    {
     "data": {
      "text/plain": [
       "array([[ 0,  1,  2,  3],\n",
       "       [ 4,  5,  6,  7],\n",
       "       [ 8,  9, 10, 11],\n",
       "       [12, 13, 14, 15],\n",
       "       [16, 17, 18, 19],\n",
       "       [20, 21, 22, 23],\n",
       "       [24, 25, 26, 27],\n",
       "       [28, 29, 30, 31]])"
      ]
     },
     "execution_count": 22,
     "metadata": {},
     "output_type": "execute_result"
    }
   ],
   "source": [
    "arr = np.arange(32).reshape((8,4))\n",
    "arr"
   ]
  },
  {
   "cell_type": "code",
   "execution_count": 23,
   "id": "515911ea-4512-4dc4-a5f3-b08949a0defe",
   "metadata": {},
   "outputs": [
    {
     "data": {
      "text/plain": [
       "(array([ 4, 23, 29, 10]),)"
      ]
     },
     "execution_count": 23,
     "metadata": {},
     "output_type": "execute_result"
    }
   ],
   "source": [
    "# Multiple index arrays selects one dim array containing of elemetns corresponding to each tuple of indecies:\n",
    "\n",
    "arr[[1, 5, 7, 2], [0, 3, 1, 2]],  \n",
    "# Same as [arr[1,0], arr[5,3], ... ]\n",
    "# The result of fancy indexing with as many arrays as there are axes is always one dimensional"
   ]
  },
  {
   "cell_type": "code",
   "execution_count": 24,
   "id": "7cd0591d-12fb-469b-8add-d254c4edaf43",
   "metadata": {},
   "outputs": [
    {
     "data": {
      "text/plain": [
       "array([[ 4,  7,  5,  6],\n",
       "       [20, 23, 21, 22],\n",
       "       [28, 31, 29, 30],\n",
       "       [ 8, 11,  9, 10]])"
      ]
     },
     "execution_count": 24,
     "metadata": {},
     "output_type": "execute_result"
    }
   ],
   "source": [
    "# To select a rectangle\n",
    "arr[[1, 5, 7, 2]] [:,[0, 3, 1, 2]]\n"
   ]
  },
  {
   "cell_type": "code",
   "execution_count": 25,
   "id": "f36385a9-453f-4687-91a4-92d399bf7742",
   "metadata": {},
   "outputs": [
    {
     "data": {
      "text/plain": [
       "array([[ 0,  1,  2,  3],\n",
       "       [ 0,  5,  6,  7],\n",
       "       [ 8,  9,  0, 11],\n",
       "       [12, 13, 14, 15],\n",
       "       [16, 17, 18, 19],\n",
       "       [20, 21, 22,  0],\n",
       "       [24, 25, 26, 27],\n",
       "       [28,  0, 30, 31]])"
      ]
     },
     "execution_count": 25,
     "metadata": {},
     "output_type": "execute_result"
    }
   ],
   "source": [
    "# Fancy indesing copies values - so the values in the original array will not be changed\n",
    "arr[[1, 5, 7, 2], [0, 3, 1, 2]] = 0\n",
    "arr"
   ]
  },
  {
   "cell_type": "markdown",
   "id": "3ab7e7ae-c4a7-4bc3-bbba-9637622fd73a",
   "metadata": {},
   "source": [
    "## Transposing Arrays and Swapping Axes\n",
    "\n",
    "It is type of reshaping that returns view of data without copying anything."
   ]
  },
  {
   "cell_type": "code",
   "execution_count": 26,
   "id": "087d6107-c6f7-4911-8728-1ca4d177bf6f",
   "metadata": {},
   "outputs": [
    {
     "data": {
      "text/plain": [
       "array([[ 0,  5, 10],\n",
       "       [ 1,  6, 11],\n",
       "       [ 2,  7, 12],\n",
       "       [ 3,  8, 13],\n",
       "       [ 4,  9, 14]])"
      ]
     },
     "execution_count": 26,
     "metadata": {},
     "output_type": "execute_result"
    }
   ],
   "source": [
    "array = np.arange(15).reshape((3,5))\n",
    "\n",
    "array.T"
   ]
  },
  {
   "cell_type": "code",
   "execution_count": 27,
   "id": "f0cd1c1b-e9f8-4994-8945-2db615da72fc",
   "metadata": {},
   "outputs": [
    {
     "data": {
      "text/plain": [
       "(array([[ 0,  1,  6, -1,  1],\n",
       "        [ 1,  2,  3,  0,  0],\n",
       "        [ 0, -2,  2, -1,  1]]),\n",
       " array([[ 0,  1,  0],\n",
       "        [ 1,  2, -2],\n",
       "        [ 6,  3,  2],\n",
       "        [-1,  0, -1],\n",
       "        [ 1,  0,  1]]))"
      ]
     },
     "execution_count": 27,
     "metadata": {},
     "output_type": "execute_result"
    }
   ],
   "source": [
    "arr = np.array([[0, 1, 0], [1, 2, -2], [6, 3, 2], [-1, 0, -1], [1, 0, 1]])\n",
    "arr.T, arr"
   ]
  },
  {
   "cell_type": "code",
   "execution_count": 28,
   "id": "731964ca-9bdc-443c-9e8c-e96f66245dab",
   "metadata": {},
   "outputs": [
    {
     "data": {
      "text/plain": [
       "array([[39, 20, 12],\n",
       "       [20, 14,  2],\n",
       "       [12,  2, 10]])"
      ]
     },
     "execution_count": 28,
     "metadata": {},
     "output_type": "execute_result"
    }
   ],
   "source": [
    "np.dot(arr.T, arr)"
   ]
  },
  {
   "cell_type": "code",
   "execution_count": 29,
   "id": "d2b82a87-2cb3-4f7e-8e8b-731caf342db2",
   "metadata": {},
   "outputs": [
    {
     "data": {
      "text/plain": [
       "array([[ 1,  2,  3,  0,  0],\n",
       "       [ 2,  9,  8,  1, -1],\n",
       "       [ 3,  8, 49, -8,  8],\n",
       "       [ 0,  1, -8,  2, -2],\n",
       "       [ 0, -1,  8, -2,  2]])"
      ]
     },
     "execution_count": 29,
     "metadata": {},
     "output_type": "execute_result"
    }
   ],
   "source": [
    "np.dot(arr, arr.T)"
   ]
  },
  {
   "cell_type": "code",
   "execution_count": 30,
   "id": "abf2a846-28bb-47f0-9734-38faca43370e",
   "metadata": {},
   "outputs": [
    {
     "data": {
      "text/plain": [
       "array([[39, 20, 12],\n",
       "       [20, 14,  2],\n",
       "       [12,  2, 10]])"
      ]
     },
     "execution_count": 30,
     "metadata": {},
     "output_type": "execute_result"
    }
   ],
   "source": [
    "# Matric multiplication can also be done with @\n",
    "arr.T @ arr"
   ]
  },
  {
   "cell_type": "code",
   "execution_count": 31,
   "id": "a3d7e1bf-49db-4a32-979a-02334f592c81",
   "metadata": {},
   "outputs": [
    {
     "data": {
      "text/plain": [
       "array([[ 0,  1,  6, -1,  1],\n",
       "       [ 1,  2,  3,  0,  0],\n",
       "       [ 0, -2,  2, -1,  1]])"
      ]
     },
     "execution_count": 31,
     "metadata": {},
     "output_type": "execute_result"
    }
   ],
   "source": [
    "# .T is specific way od swaping axes, ndarray has a swapaxes method which takes of axis numbers\n",
    "arr.swapaxes(0,1)"
   ]
  },
  {
   "cell_type": "markdown",
   "id": "c8ce6b82-f4cc-4b93-8ca2-2f91386c7d45",
   "metadata": {},
   "source": [
    "## Pseudorandom Number Generation\n",
    "numpy.random is a module with functions to generate whole random arrays from many kinds of probability distributions"
   ]
  },
  {
   "cell_type": "code",
   "execution_count": 32,
   "id": "e3f2e31f-988f-4443-a788-d6faa131a9a5",
   "metadata": {},
   "outputs": [
    {
     "data": {
      "text/plain": [
       "array([[ 1.24276112, -0.61390809,  0.06370992, -1.65245843],\n",
       "       [ 0.98870074, -1.51094993, -0.23451303, -0.73663623],\n",
       "       [ 0.10860826,  1.92436474,  2.05681029,  1.08779441],\n",
       "       [-0.94203677,  0.48021819,  0.09170852,  0.38166022]])"
      ]
     },
     "execution_count": 32,
     "metadata": {},
     "output_type": "execute_result"
    }
   ],
   "source": [
    "samples = np.random.standard_normal(size=(4,4))\n",
    "samples"
   ]
  },
  {
   "cell_type": "code",
   "execution_count": 33,
   "id": "101f4516-8a26-4fef-a377-7811c9786618",
   "metadata": {},
   "outputs": [
    {
     "data": {
      "text/plain": [
       "(array([[-1.42382504,  1.26372846, -0.87066174],\n",
       "        [-0.25917323, -0.07534331, -0.74088465]]),\n",
       " array([[ 1.48884275, -0.40613502,  0.76055885],\n",
       "        [-0.13643518, -0.61553219, -2.04278598]]))"
      ]
     },
     "execution_count": 33,
     "metadata": {},
     "output_type": "execute_result"
    }
   ],
   "source": [
    "# Random module is configurable, rng will always use seed set here and the rest of the module if called will not\n",
    "rng = np.random.default_rng(seed=12345)\n",
    "data = rng.standard_normal((2,3))\n",
    "data, np.random.standard_normal((2,3))"
   ]
  },
  {
   "cell_type": "markdown",
   "id": "19dba802-4a9a-44d9-9745-cd91a235deb2",
   "metadata": {},
   "source": [
    "## Universal Functions: Fast element vise array functions"
   ]
  },
  {
   "cell_type": "code",
   "execution_count": 34,
   "id": "660f7043-1631-4c37-85e5-32713578ff23",
   "metadata": {},
   "outputs": [
    {
     "data": {
      "text/plain": [
       "(array([0.        , 1.        , 1.41421356, 1.73205081, 2.        ,\n",
       "        2.23606798, 2.44948974, 2.64575131, 2.82842712, 3.        ]),\n",
       " array([1.00000000e+00, 2.71828183e+00, 7.38905610e+00, 2.00855369e+01,\n",
       "        5.45981500e+01, 1.48413159e+02, 4.03428793e+02, 1.09663316e+03,\n",
       "        2.98095799e+03, 8.10308393e+03]))"
      ]
     },
     "execution_count": 34,
     "metadata": {},
     "output_type": "execute_result"
    }
   ],
   "source": [
    "arr = np.arange(10)\n",
    "# Unnary functions\n",
    "np.sqrt(arr), np.exp(arr)"
   ]
  },
  {
   "cell_type": "code",
   "execution_count": 35,
   "id": "f7969c1e-5a45-4fa7-8698-2a4876644c67",
   "metadata": {},
   "outputs": [
    {
     "data": {
      "text/plain": [
       "(array([ 0.78884434,  0.6488928 ,  0.57585751,  1.39897899,  2.34740965,\n",
       "         0.96849691,  0.90291934,  0.90219827, -0.15818926,  0.44948393]),\n",
       " array([-1.3677927 ,  0.6488928 ,  0.36105811, -1.95286306,  2.34740965,\n",
       "         0.96849691, -0.75938718,  0.90219827, -0.46695317, -0.06068952]),\n",
       " array([ 0.78884434, -1.25666813,  0.57585751,  1.39897899,  1.32229806,\n",
       "        -0.29969852,  0.90291934, -1.62158273, -0.15818926,  0.44948393]))"
      ]
     },
     "execution_count": 35,
     "metadata": {},
     "output_type": "execute_result"
    }
   ],
   "source": [
    "# Binnay functions take two args\n",
    "x = rng.standard_normal(10)\n",
    "y = rng.standard_normal(10)\n",
    "np.maximum(x,y), x, y"
   ]
  },
  {
   "cell_type": "code",
   "execution_count": 36,
   "id": "30ab37e7-3c04-44f1-a882-3491427f9372",
   "metadata": {},
   "outputs": [
    {
     "data": {
      "text/plain": [
       "(array([-6.71800536, -0.40843795,  8.62369966, 13.09079713,  3.88680672,\n",
       "         4.14316598, -4.79494157]),\n",
       " array([-0.71800536, -0.40843795,  0.62369966,  0.09079713,  0.88680672,\n",
       "         0.14316598, -0.79494157]),\n",
       " array([-6., -0.,  8., 13.,  3.,  4., -4.]))"
      ]
     },
     "execution_count": 36,
     "metadata": {},
     "output_type": "execute_result"
    }
   ],
   "source": [
    "arr = rng.standard_normal(7) * 5\n",
    "reminder, wholepart = np.modf(arr)\n",
    "\n",
    "arr, reminder, wholepart"
   ]
  },
  {
   "cell_type": "code",
   "execution_count": 37,
   "id": "cd1f7b4c-10d7-4b41-bfe7-0797abacfb90",
   "metadata": {},
   "outputs": [
    {
     "data": {
      "text/plain": [
       "(array([-5.71800536,  0.59156205,  9.62369966, 14.09079713,  4.88680672,\n",
       "         5.14316598, -3.79494157]),\n",
       " array([-5.71800536,  0.59156205,  9.62369966, 14.09079713,  4.88680672,\n",
       "         5.14316598, -3.79494157]))"
      ]
     },
     "execution_count": 37,
     "metadata": {},
     "output_type": "execute_result"
    }
   ],
   "source": [
    "# Ufunc accept optional out parameter to assign the resilt to existing array instrad of creating a new one\n",
    "arr\n",
    "out = np.zeros_like(arr)\n",
    "out\n",
    "# np.add(arr,1)\n",
    "np.add(arr,1,out=out)\n",
    "out, np.add(arr,1)"
   ]
  },
  {
   "cell_type": "markdown",
   "id": "b3efba01-9c9d-41c4-9377-0b13abce93f8",
   "metadata": {},
   "source": [
    "## Array oriented programming"
   ]
  },
  {
   "cell_type": "code",
   "execution_count": 38,
   "id": "6f5dbe1d-49ca-48b5-a32d-fee53f9f0d73",
   "metadata": {},
   "outputs": [
    {
     "data": {
      "text/plain": [
       "(array([[-5.  , -4.99, -4.98, ...,  4.97,  4.98,  4.99],\n",
       "        [-5.  , -4.99, -4.98, ...,  4.97,  4.98,  4.99],\n",
       "        [-5.  , -4.99, -4.98, ...,  4.97,  4.98,  4.99],\n",
       "        ...,\n",
       "        [-5.  , -4.99, -4.98, ...,  4.97,  4.98,  4.99],\n",
       "        [-5.  , -4.99, -4.98, ...,  4.97,  4.98,  4.99],\n",
       "        [-5.  , -4.99, -4.98, ...,  4.97,  4.98,  4.99]]),\n",
       " array([[-5.  , -5.  , -5.  , ..., -5.  , -5.  , -5.  ],\n",
       "        [-4.99, -4.99, -4.99, ..., -4.99, -4.99, -4.99],\n",
       "        [-4.98, -4.98, -4.98, ..., -4.98, -4.98, -4.98],\n",
       "        ...,\n",
       "        [ 4.97,  4.97,  4.97, ...,  4.97,  4.97,  4.97],\n",
       "        [ 4.98,  4.98,  4.98, ...,  4.98,  4.98,  4.98],\n",
       "        [ 4.99,  4.99,  4.99, ...,  4.99,  4.99,  4.99]]))"
      ]
     },
     "execution_count": 38,
     "metadata": {},
     "output_type": "execute_result"
    }
   ],
   "source": [
    "points = np.arange(-5,5,0.01)\n",
    "\n",
    "xs,ys = np.meshgrid(points,points)\n",
    "\n",
    "xs, ys"
   ]
  },
  {
   "cell_type": "code",
   "execution_count": 39,
   "id": "735778c2-906a-440e-a60e-aacebf06706c",
   "metadata": {},
   "outputs": [
    {
     "data": {
      "text/plain": [
       "array([[7.07106781, 7.06400028, 7.05693985, ..., 7.04988652, 7.05693985,\n",
       "        7.06400028],\n",
       "       [7.06400028, 7.05692568, 7.04985815, ..., 7.04279774, 7.04985815,\n",
       "        7.05692568],\n",
       "       [7.05693985, 7.04985815, 7.04278354, ..., 7.03571603, 7.04278354,\n",
       "        7.04985815],\n",
       "       ...,\n",
       "       [7.04988652, 7.04279774, 7.03571603, ..., 7.0286414 , 7.03571603,\n",
       "        7.04279774],\n",
       "       [7.05693985, 7.04985815, 7.04278354, ..., 7.03571603, 7.04278354,\n",
       "        7.04985815],\n",
       "       [7.06400028, 7.05692568, 7.04985815, ..., 7.04279774, 7.04985815,\n",
       "        7.05692568]])"
      ]
     },
     "execution_count": 39,
     "metadata": {},
     "output_type": "execute_result"
    }
   ],
   "source": [
    "z = np.sqrt(np.square(xs) + np.square(ys))\n",
    "z"
   ]
  },
  {
   "cell_type": "code",
   "execution_count": 40,
   "id": "127eb0ff-4e23-4f5d-89e4-72349cc40184",
   "metadata": {},
   "outputs": [
    {
     "name": "stderr",
     "output_type": "stream",
     "text": [
      "<>:5: SyntaxWarning: invalid escape sequence '\\s'\n",
      "<>:5: SyntaxWarning: invalid escape sequence '\\s'\n",
      "/tmp/ipykernel_1131/791885577.py:5: SyntaxWarning: invalid escape sequence '\\s'\n",
      "  plt.title(\"Image plot of $\\sqrt{x^2 + y^2}$ for a grid of values\")\n"
     ]
    },
    {
     "data": {
      "text/plain": [
       "Text(0.5, 1.0, 'Image plot of $\\\\sqrt{x^2 + y^2}$ for a grid of values')"
      ]
     },
     "execution_count": 40,
     "metadata": {},
     "output_type": "execute_result"
    },
    {
     "data": {
      "image/png": "[encoded data removed]",
      "text/plain": [
       "<Figure size 640x480 with 2 Axes>"
      ]
     },
     "metadata": {},
     "output_type": "display_data"
    }
   ],
   "source": [
    "import matplotlib.pyplot as plt\n",
    "\n",
    "plt.imshow(z, cmap=plt.cm.gray, extent=(-5,5,-5,5))\n",
    "plt.colorbar()\n",
    "plt.title(\"Image plot of $\\sqrt{x^2 + y^2}$ for a grid of values\")"
   ]
  },
  {
   "cell_type": "markdown",
   "id": "ae9d6bbf-3d24-4e74-8f00-c1750e9efdea",
   "metadata": {},
   "source": [
    "## Expressing conditional logic as array expressions"
   ]
  },
  {
   "cell_type": "code",
   "execution_count": 41,
   "id": "cd8e2bfd-92a5-45d5-b381-97b9d17a8f33",
   "metadata": {},
   "outputs": [
    {
     "data": {
      "text/plain": [
       "[1.1, 2.2, 1.3, 1.4, 2.5]"
      ]
     },
     "execution_count": 41,
     "metadata": {},
     "output_type": "execute_result"
    }
   ],
   "source": [
    "xarr = np.array([1.1,1.2,1.3,1.4,1.5])\n",
    "yarr = np.array([2.1,2.2,2.3,2.4,2.5])\n",
    "cond = np.array([True, False, True, True, False])\n",
    "\n",
    "# Doing stuff with list comprehension\n",
    "result = [x if c else y for x,y,c in zip(xarr, yarr, cond)]\n",
    "result"
   ]
  },
  {
   "cell_type": "code",
   "execution_count": 42,
   "id": "11651237-9896-438c-a1a6-696f68f08296",
   "metadata": {},
   "outputs": [
    {
     "data": {
      "text/plain": [
       "array([1.1, 2.2, 1.3, 1.4, 2.5])"
      ]
     },
     "execution_count": 42,
     "metadata": {},
     "output_type": "execute_result"
    }
   ],
   "source": [
    "# With numpy where it is faster and single function call\n",
    "result = np.where(cond, xarr, yarr)\n",
    "result"
   ]
  },
  {
   "cell_type": "code",
   "execution_count": 43,
   "id": "5223d7c6-8f2c-4693-a406-ddc4f0bd9ad5",
   "metadata": {},
   "outputs": [
    {
     "data": {
      "text/plain": [
       "(array([[-1.20938829, -1.41229201,  0.54154683,  0.7519394 ],\n",
       "        [-0.65876032, -1.22867499,  0.25755777,  0.31290292],\n",
       "        [-0.13081169,  1.26998312, -0.09296246, -0.06615089],\n",
       "        [-1.10821447,  0.13595685,  1.34707776,  0.06114402]]),\n",
       " array([[False, False,  True,  True],\n",
       "        [False, False,  True,  True],\n",
       "        [False,  True, False, False],\n",
       "        [False,  True,  True,  True]]),\n",
       " array([[-2, -2,  2,  2],\n",
       "        [-2, -2,  2,  2],\n",
       "        [-2,  2, -2, -2],\n",
       "        [-2,  2,  2,  2]]))"
      ]
     },
     "execution_count": 43,
     "metadata": {},
     "output_type": "execute_result"
    }
   ],
   "source": [
    "# Second and third arg in where do not have to be arrays, those can be scalars\n",
    "# Main usage of where is to produce new array based on another array.\n",
    "# For example if we want to replace all negative numbers in two dim array with -2 and all positive with 2\n",
    "arr = rng.standard_normal((4,4))\n",
    "\n",
    "arr, arr > 0, np.where(arr > 0, 2, -2)"
   ]
  },
  {
   "cell_type": "code",
   "execution_count": 44,
   "id": "bb187d15-b5ea-4b5c-8ba3-71d66c82c91d",
   "metadata": {},
   "outputs": [
    {
     "data": {
      "text/plain": [
       "array([[-1.20938829, -1.41229201,  2.        ,  2.        ],\n",
       "       [-0.65876032, -1.22867499,  2.        ,  2.        ],\n",
       "       [-0.13081169,  2.        , -0.09296246, -0.06615089],\n",
       "       [-1.10821447,  2.        ,  2.        ,  2.        ]])"
      ]
     },
     "execution_count": 44,
     "metadata": {},
     "output_type": "execute_result"
    }
   ],
   "source": [
    "# We can combine scalars and arrays, for example replace only positive numbers with 2\n",
    "np.where(arr > 0, 2, arr)"
   ]
  },
  {
   "cell_type": "markdown",
   "id": "fc0e9073-86b1-4c96-9b23-b83272d7e68e",
   "metadata": {},
   "source": [
    "## Mathematical and Statistical Methods\n",
    "A set of mat functions that compute the data about the whole array or about the data along an axes are availanle as array class methods. There are aggregations like sum, mean that are sometimes called reductions and std (standard deviation) either by calling the array instance methods or by calling top level numpy functions."
   ]
  },
  {
   "cell_type": "code",
   "execution_count": 45,
   "id": "fc340ab2-086a-416e-b45a-86a2b2fa4fea",
   "metadata": {},
   "outputs": [
    {
     "data": {
      "text/plain": [
       "(array([[ 0.0709146 ,  0.43365454,  0.27748366,  0.53025239],\n",
       "        [ 0.53672097,  0.61835001, -0.79501746,  0.30003095],\n",
       "        [-1.60270159,  0.26679883, -1.26162378, -0.07127081],\n",
       "        [ 0.47404973, -0.41485376,  0.0977165 , -1.64041784],\n",
       "        [-0.85725882,  0.68828179, -1.15452958,  0.65045239]]),\n",
       " -0.14264836450595753,\n",
       " -0.14264836450595753,\n",
       " -2.8529672901191505)"
      ]
     },
     "execution_count": 45,
     "metadata": {},
     "output_type": "execute_result"
    }
   ],
   "source": [
    "# Let's generate some normal distributed random data\n",
    "arr = rng.standard_normal((5,4))\n",
    "arr, arr.mean(), np.mean(arr), arr.sum()"
   ]
  },
  {
   "cell_type": "code",
   "execution_count": 46,
   "id": "763ab2d6-ad7b-42ac-a53c-a469ccbcf024",
   "metadata": {},
   "outputs": [
    {
     "data": {
      "text/plain": [
       "(array([ 0.3280763 ,  0.16502112, -0.66719934, -0.37087634, -0.16826356]),\n",
       " array([-1.37827512,  1.59223141, -2.83597066, -0.23095292]))"
      ]
     },
     "execution_count": 46,
     "metadata": {},
     "output_type": "execute_result"
    }
   ],
   "source": [
    "# Functions like mean or sum take optional axes argument and computate the statistic over the given axis, resulting in an array with one less dimension\n",
    "arr.mean(axis=1), arr.sum(axis=0)"
   ]
  },
  {
   "cell_type": "code",
   "execution_count": 47,
   "id": "4505ffa6-9390-4824-ba17-0bdee7a5386a",
   "metadata": {},
   "outputs": [
    {
     "data": {
      "text/plain": [
       "(array([0, 1, 2, 3, 4, 5, 6, 7]), array([ 0,  1,  3,  6, 10, 15, 21, 28]))"
      ]
     },
     "execution_count": 47,
     "metadata": {},
     "output_type": "execute_result"
    }
   ],
   "source": [
    "# There are other methods like cumsum and cumprod that do not aggregate, instead they produce an array\n",
    "arr = np.arange(8)\n",
    "arr, arr.cumsum()"
   ]
  },
  {
   "cell_type": "code",
   "execution_count": 48,
   "id": "404eadcb-70fb-4ca1-8045-3c1d73138b9b",
   "metadata": {},
   "outputs": [
    {
     "data": {
      "text/plain": [
       "(array([[0, 1, 2],\n",
       "        [3, 4, 5],\n",
       "        [6, 7, 8]]),\n",
       " array([[ 0,  1,  2],\n",
       "        [ 3,  5,  7],\n",
       "        [ 9, 12, 15]]),\n",
       " array([[ 0,  1,  3],\n",
       "        [ 3,  7, 12],\n",
       "        [ 6, 13, 21]]))"
      ]
     },
     "execution_count": 48,
     "metadata": {},
     "output_type": "execute_result"
    }
   ],
   "source": [
    "# In multidim arrays accumuation functions like cumsum return array of the same size but with partial aggregates computed along the axis \n",
    "arr = np.arange(9).reshape((3,3))\n",
    "arr, arr.cumsum(axis=0), arr.cumsum(axis=1)"
   ]
  },
  {
   "cell_type": "markdown",
   "id": "a51d4550-61fa-4956-9286-530d238d98bd",
   "metadata": {},
   "source": [
    "## Methds for Boolean Arrays\n",
    "Boolean values are 1 {True}, 0 {False}. Thus the sum is often used for counting the True values in the a Boolean array"
   ]
  },
  {
   "cell_type": "code",
   "execution_count": 49,
   "id": "2e73ca13-cd91-4995-86cc-d8622bfea18c",
   "metadata": {},
   "outputs": [
    {
     "data": {
      "text/plain": [
       "(48, 52)"
      ]
     },
     "execution_count": 49,
     "metadata": {},
     "output_type": "execute_result"
    }
   ],
   "source": [
    "arr = rng.standard_normal(100)\n",
    "numOfPositive = (arr>0).sum()\n",
    "numOfNegative = (arr<=0).sum()\n",
    "\n",
    "numOfPositive, numOfNegative"
   ]
  },
  {
   "cell_type": "code",
   "execution_count": 50,
   "id": "282fff17-a826-4f09-bcf7-60f75800546d",
   "metadata": {},
   "outputs": [
    {
     "data": {
      "text/plain": [
       "(True, False)"
      ]
     },
     "execution_count": 50,
     "metadata": {},
     "output_type": "execute_result"
    }
   ],
   "source": [
    "# Two methods also usefull for boolean arrays are any and all. any tests if one or more values in array is true and all checks if all are true\n",
    "\n",
    "bools = np.array([False, False, True, False])\n",
    "bools.any(), bools.all()"
   ]
  },
  {
   "cell_type": "markdown",
   "id": "478524be-dd75-4b94-827d-f29c6f63558c",
   "metadata": {},
   "source": [
    "## Sorting"
   ]
  },
  {
   "cell_type": "code",
   "execution_count": 51,
   "id": "eef83016-ff14-414b-8d0d-4690c655762e",
   "metadata": {},
   "outputs": [
    {
     "name": "stdout",
     "output_type": "stream",
     "text": [
      "[-0.05481416 -0.08241372  0.9359865   1.23853712  1.27279553  0.40589222]\n"
     ]
    },
    {
     "data": {
      "text/plain": [
       "array([-0.08241372, -0.05481416,  0.40589222,  0.9359865 ,  1.23853712,\n",
       "        1.27279553])"
      ]
     },
     "execution_count": 51,
     "metadata": {},
     "output_type": "execute_result"
    }
   ],
   "source": [
    "# Like Python builtin list numpy array can be sorted with sort method\n",
    "arr = rng.standard_normal(6)\n",
    "print(arr)\n",
    "\n",
    "arr.sort()\n",
    "\n",
    "arr"
   ]
  },
  {
   "cell_type": "code",
   "execution_count": 52,
   "id": "434cabaf-3e27-46ba-be5f-49f7a4e63b1c",
   "metadata": {},
   "outputs": [
    {
     "data": {
      "text/plain": [
       "array([[-0.05032522,  0.28931754,  0.17930568],\n",
       "       [ 1.39748056,  0.29204679,  0.63840567],\n",
       "       [-0.02788771,  1.37105185, -2.05280763],\n",
       "       [ 0.38050908,  0.75539067, -1.15912585],\n",
       "       [ 2.15031011, -0.15027022, -0.16116428]])"
      ]
     },
     "execution_count": 52,
     "metadata": {},
     "output_type": "execute_result"
    }
   ],
   "source": [
    "# You can sort each one-dimensional secition of values in multidimensional array in place along axis by passing the axis numnber to sort method\n",
    "arr = rng.standard_normal((5,3))\n",
    "arr"
   ]
  },
  {
   "cell_type": "code",
   "execution_count": 53,
   "id": "b4183041-282a-4edb-b912-3c489319ab4a",
   "metadata": {},
   "outputs": [
    {
     "data": {
      "text/plain": [
       "array([[-0.05032522, -0.15027022, -2.05280763],\n",
       "       [-0.02788771,  0.28931754, -1.15912585],\n",
       "       [ 0.38050908,  0.29204679, -0.16116428],\n",
       "       [ 1.39748056,  0.75539067,  0.17930568],\n",
       "       [ 2.15031011,  1.37105185,  0.63840567]])"
      ]
     },
     "execution_count": 53,
     "metadata": {},
     "output_type": "execute_result"
    }
   ],
   "source": [
    "arr.sort(axis=0) # Sorts within each column\n",
    "arr"
   ]
  },
  {
   "cell_type": "code",
   "execution_count": 54,
   "id": "dfbfa057-d798-4297-9b4e-ff199e592842",
   "metadata": {},
   "outputs": [
    {
     "data": {
      "text/plain": [
       "array([[-2.05280763, -0.15027022, -0.05032522],\n",
       "       [-1.15912585, -0.02788771,  0.28931754],\n",
       "       [-0.16116428,  0.29204679,  0.38050908],\n",
       "       [ 0.17930568,  0.75539067,  1.39748056],\n",
       "       [ 0.63840567,  1.37105185,  2.15031011]])"
      ]
     },
     "execution_count": 54,
     "metadata": {},
     "output_type": "execute_result"
    }
   ],
   "source": [
    "arr.sort(axis = 1) # Sorts across each row\n",
    "arr"
   ]
  },
  {
   "cell_type": "code",
   "execution_count": 55,
   "id": "63f6bf9e-a947-4b84-b446-32e880a21d24",
   "metadata": {},
   "outputs": [
    {
     "data": {
      "text/plain": [
       "(array([-10,  -3,   0,   1,   5,   7]), array([  5, -10,   7,   1,   0,  -3]))"
      ]
     },
     "execution_count": 55,
     "metadata": {},
     "output_type": "execute_result"
    }
   ],
   "source": [
    "# numpy top level sort function returns sorted copy of the array instead of sorint inplace\n",
    "arr2 = np.array([5, -10, 7, 1, 0, -3])\n",
    "sorted_arr2 = np.sort(arr2)\n",
    "\n",
    "sorted_arr2, arr2"
   ]
  },
  {
   "cell_type": "markdown",
   "id": "39c9186f-25e0-48f0-82f0-bd77abbdb0ce",
   "metadata": {},
   "source": [
    "## Unique and other set logic"
   ]
  },
  {
   "cell_type": "code",
   "execution_count": 56,
   "id": "aeb9112b-9a95-4c22-9ca6-0593da530e3e",
   "metadata": {},
   "outputs": [
    {
     "data": {
      "text/plain": [
       "array(['Bob', 'Joe', 'Will'], dtype='<U4')"
      ]
     },
     "execution_count": 56,
     "metadata": {},
     "output_type": "execute_result"
    }
   ],
   "source": [
    "names = np.array([\"Bob\", \"Will\", \"Joe\", \"Bob\", \"Will\", \"Joe\", \"Joe\"])\n",
    "np.unique(names)"
   ]
  },
  {
   "cell_type": "code",
   "execution_count": 57,
   "id": "40b4ba1b-5023-4a43-9516-81f018cbc296",
   "metadata": {},
   "outputs": [
    {
     "data": {
      "text/plain": [
       "array([1, 2, 3, 4])"
      ]
     },
     "execution_count": 57,
     "metadata": {},
     "output_type": "execute_result"
    }
   ],
   "source": [
    "ints = np.array([3, 3, 3, 2, 2, 1, 1, 4, 4])\n",
    "np.unique(ints)"
   ]
  },
  {
   "cell_type": "markdown",
   "id": "6bbf53c0-6fa4-495e-ba91-a33a50fb1e47",
   "metadata": {},
   "source": [
    "## File Input and Output with Arrays"
   ]
  },
  {
   "cell_type": "code",
   "execution_count": 58,
   "id": "8f7df622-f4ab-4dab-a8f5-97c2cb8caf1f",
   "metadata": {},
   "outputs": [
    {
     "data": {
      "text/plain": [
       "array([0, 1, 2, 3, 4, 5, 6, 7, 8, 9])"
      ]
     },
     "execution_count": 58,
     "metadata": {},
     "output_type": "execute_result"
    }
   ],
   "source": [
    "arr = np.arange(10)\n",
    "np.save(\"some_array\", arr)\n",
    "np.load(\"some_array.npy\")"
   ]
  },
  {
   "cell_type": "markdown",
   "id": "ce61c592-ca7b-4fb9-8138-cf26fe830b29",
   "metadata": {},
   "source": [
    "## Linear Algebra\n",
    "\n",
    "Numpy suports linear algebra operations, like matrix multiplication, decomposition, determinants, and other square matrix math. Multiplying two dimensional arrays with * is an element-wise product, while matrix multiplicaton require either using dot function or the @ operator. dor is both array method and funciton in numpy namespace."
   ]
  },
  {
   "cell_type": "code",
   "execution_count": 59,
   "id": "83a49213-15cf-4b41-8b0d-49860d473390",
   "metadata": {},
   "outputs": [
    {
     "data": {
      "text/plain": [
       "(array([[1., 2., 3.],\n",
       "        [4., 5., 6.]]),\n",
       " array([[ 6., 23.],\n",
       "        [-1.,  7.],\n",
       "        [ 8.,  9.]]),\n",
       " array([[ 28.,  64.],\n",
       "        [ 67., 181.]]),\n",
       " array([[ 28.,  64.],\n",
       "        [ 67., 181.]]),\n",
       " array([[ 28.,  64.],\n",
       "        [ 67., 181.]]))"
      ]
     },
     "execution_count": 59,
     "metadata": {},
     "output_type": "execute_result"
    }
   ],
   "source": [
    "x = np.arange(1,7, dtype=np.float64).reshape((2,3))\n",
    "y = np.array([[6.,23.],[-1,7],[8,9]])\n",
    "x, y, x.dot(y), np.dot(x,y), x@y"
   ]
  },
  {
   "cell_type": "code",
   "execution_count": 60,
   "id": "82e36df1-0e7d-4284-86c8-6fc0b077a6f3",
   "metadata": {},
   "outputs": [
    {
     "data": {
      "text/plain": [
       "array([ 6., 15.])"
      ]
     },
     "execution_count": 60,
     "metadata": {},
     "output_type": "execute_result"
    }
   ],
   "source": [
    "x @ np.ones(3)"
   ]
  },
  {
   "cell_type": "code",
   "execution_count": 61,
   "id": "b5d8a5d1-5bf1-4b6f-bd87-86f2abef591c",
   "metadata": {},
   "outputs": [
    {
     "data": {
      "text/plain": [
       "array([[ 0.14491594,  0.0144229 ,  0.08265531, -0.01086944,  0.01623563],\n",
       "       [ 0.0144229 ,  0.17942117,  0.05029581,  0.15919656, -0.19319463],\n",
       "       [ 0.08265531,  0.05029581,  0.75680907, -0.34614379,  0.1279691 ],\n",
       "       [-0.01086944,  0.15919656, -0.34614379,  0.95566235, -1.30829955],\n",
       "       [ 0.01623563, -0.19319463,  0.1279691 , -1.30829955,  3.44915596]])"
      ]
     },
     "execution_count": 61,
     "metadata": {},
     "output_type": "execute_result"
    }
   ],
   "source": [
    "from numpy.linalg import inv, qr\n",
    "\n",
    "X = rng.standard_normal((5,5))\n",
    "mat = X.T @ X\n",
    "inv(mat)"
   ]
  },
  {
   "cell_type": "code",
   "execution_count": 62,
   "id": "cf7f4ffb-c880-493e-a1ba-9010f9aa0337",
   "metadata": {},
   "outputs": [
    {
     "data": {
      "text/plain": [
       "array([[ 1.00000000e+00,  4.94319187e-18, -4.90472625e-17,\n",
       "         2.39681080e-17,  2.54327251e-17],\n",
       "       [ 1.94658475e-17,  1.00000000e+00, -2.41054725e-17,\n",
       "         2.03997028e-16, -4.99627565e-17],\n",
       "       [ 2.39520436e-17,  5.28864841e-17,  1.00000000e+00,\n",
       "         5.16224344e-17, -1.71507269e-16],\n",
       "       [ 5.85253209e-18,  9.12557411e-17, -1.53803701e-16,\n",
       "         1.00000000e+00, -9.06931877e-17],\n",
       "       [ 7.11699785e-18,  7.84899786e-18,  1.03118508e-17,\n",
       "         5.45259134e-17,  1.00000000e+00]])"
      ]
     },
     "execution_count": 62,
     "metadata": {},
     "output_type": "execute_result"
    }
   ],
   "source": [
    "mat @ inv(mat)"
   ]
  },
  {
   "cell_type": "code",
   "execution_count": 63,
   "id": "16538a56-70b5-425a-b186-bff26a4bfcf3",
   "metadata": {},
   "outputs": [
    {
     "data": {
      "text/plain": [
       "array([[59.23556887, 23.58757545, -4.56364876, 57.46975214, 43.45029109],\n",
       "       [23.58757545,  9.64030333, -1.99825389, 22.93706276, 17.4403154 ],\n",
       "       [-4.56364876, -1.99825389,  1.31977281, -4.12643602, -3.77495029],\n",
       "       [57.46975214, 22.93706276, -4.12643602, 56.35832373, 42.20237472],\n",
       "       [43.45029109, 17.4403154 , -3.77495029, 42.20237472, 32.24090158]])"
      ]
     },
     "execution_count": 63,
     "metadata": {},
     "output_type": "execute_result"
    }
   ],
   "source": [
    "from numpy.linalg import inv, qr\n",
    "X = rng.standard_normal((5, 5))\n",
    "mat = X.T @ X\n",
    "inv(mat)"
   ]
  },
  {
   "cell_type": "code",
   "execution_count": 64,
   "id": "3546f843-2ebd-45e6-8098-d3f88d2fb937",
   "metadata": {},
   "outputs": [
    {
     "data": {
      "text/plain": [
       "array([[ 1.00000000e+00, -9.85441711e-16,  1.34047253e-15,\n",
       "        -1.95924306e-14, -9.46881302e-15],\n",
       "       [ 1.12110949e-14,  1.00000000e+00,  1.62773813e-16,\n",
       "         4.02719059e-15,  2.45325342e-14],\n",
       "       [-1.93458831e-14,  6.38268375e-16,  1.00000000e+00,\n",
       "         2.74213201e-14, -7.69111483e-15],\n",
       "       [ 1.31446859e-14,  2.74831715e-15, -5.56056961e-16,\n",
       "         1.00000000e+00,  1.01259540e-14],\n",
       "       [-2.98440415e-14,  2.60821046e-14, -1.25891267e-15,\n",
       "         4.14396808e-14,  1.00000000e+00]])"
      ]
     },
     "execution_count": 64,
     "metadata": {},
     "output_type": "execute_result"
    }
   ],
   "source": [
    "mat @ inv(mat)"
   ]
  },
  {
   "cell_type": "markdown",
   "id": "9956e261-1f7b-4009-963e-4995aa78f751",
   "metadata": {},
   "source": [
    "## Example: Random Walks"
   ]
  },
  {
   "cell_type": "code",
   "execution_count": 65,
   "id": "36f6a66f-0ac3-4d8a-9008-0c606c695aa4",
   "metadata": {},
   "outputs": [],
   "source": [
    "import random\n",
    "position = 0\n",
    "walk = [position]\n",
    "nsteps = 1000\n",
    "for _ in range(nsteps):\n",
    "    step = 1 if random.randint(0, 1) else -1\n",
    "    position += step\n",
    "    walk.append(position)\n",
    "    \n"
   ]
  },
  {
   "cell_type": "code",
   "execution_count": 66,
   "id": "ce88d2c8-ecc2-42a6-a405-6266d47b9006",
   "metadata": {},
   "outputs": [
    {
     "data": {
      "text/plain": [
       "[<matplotlib.lines.Line2D at 0xffff945b2180>]"
      ]
     },
     "execution_count": 66,
     "metadata": {},
     "output_type": "execute_result"
    },
    {
     "data": {
      "image/png": "[encoded data removed]",
      "text/plain": [
       "<Figure size 640x480 with 1 Axes>"
      ]
     },
     "metadata": {},
     "output_type": "display_data"
    }
   ],
   "source": [
    "plt.plot(walk[:100])"
   ]
  },
  {
   "cell_type": "code",
   "execution_count": 84,
   "id": "5bf1635b-c3dc-4a5e-bc00-493ce0edc507",
   "metadata": {},
   "outputs": [],
   "source": [
    "nsteps = 1000\n",
    "rng = np.random.default_rng(seed=12345)\n",
    "draws = rng.integers(0,2,size=nsteps)\n",
    "steps = np.where(draws == 0, 1, -1)\n",
    "walk = steps.cumsum()"
   ]
  },
  {
   "cell_type": "code",
   "execution_count": 68,
   "id": "eda6059d-3d9f-4f49-9807-e6036c899dc5",
   "metadata": {},
   "outputs": [
    {
     "data": {
      "text/plain": [
       "-8"
      ]
     },
     "execution_count": 68,
     "metadata": {},
     "output_type": "execute_result"
    }
   ],
   "source": [
    "walk.min()"
   ]
  },
  {
   "cell_type": "code",
   "execution_count": 69,
   "id": "0251cc7e-c78e-4e5a-b513-8e9aa11bd190",
   "metadata": {},
   "outputs": [
    {
     "data": {
      "text/plain": [
       "50"
      ]
     },
     "execution_count": 69,
     "metadata": {},
     "output_type": "execute_result"
    }
   ],
   "source": [
    "walk.max()"
   ]
  },
  {
   "cell_type": "code",
   "execution_count": 80,
   "id": "28715540-15ae-485d-9bf4-820e58e40652",
   "metadata": {},
   "outputs": [
    {
     "data": {
      "text/plain": [
       "array([-1,  0, -1,  0,  1,  0, -1, -2, -3, -2, -3, -2, -3, -4, -3, -2, -1,\n",
       "       -2, -3, -4, -5, -4, -5, -6, -7, -8, -7, -6, -5, -4, -3, -4, -3, -4,\n",
       "       -3, -2, -1, -2, -3, -2, -3, -2, -1,  0, -1,  0,  1,  2,  3,  4,  3,\n",
       "        2,  3,  4,  5,  6,  7,  8,  9,  8,  7,  6,  5,  4,  5,  4,  3,  2,\n",
       "        1,  0, -1, -2, -3, -4, -3, -4, -5, -4, -3, -2, -3, -2, -3, -4, -5,\n",
       "       -4, -5, -6, -5, -4, -3, -2, -3, -2, -3, -2, -1,  0,  1,  0,  1,  2,\n",
       "        1,  2,  1,  0,  1,  2,  3,  4,  3,  4,  3,  4,  3,  4,  3,  4,  5,\n",
       "        6,  5,  6,  7,  8,  7,  8,  7,  8,  7,  8,  7,  8,  7,  8,  7,  8,\n",
       "        7,  6,  7,  8,  9,  8,  7,  8,  9,  8,  9,  8,  7,  8,  7,  6,  7,\n",
       "        8,  9, 10, 11, 10,  9,  8,  9,  8,  9, 10,  9, 10,  9,  8,  7,  8,\n",
       "        7,  6,  5,  6,  7,  6,  5,  6,  5,  6,  7,  8,  9, 10,  9,  8,  7,\n",
       "        6,  5,  6,  5,  6,  7,  8,  7,  6,  7,  8,  9, 10, 11, 12, 13, 14,\n",
       "       13, 12, 13, 14, 15, 14, 13, 14, 15, 14, 15, 16, 17, 18, 19, 20, 21,\n",
       "       22, 23, 24, 25, 24, 23, 22, 23, 24, 23, 22, 21, 22, 21, 20, 21, 20,\n",
       "       19, 20, 19, 20, 19, 20, 19, 20, 19, 18, 19, 20, 19, 20, 21, 20, 21,\n",
       "       22, 23, 24, 23, 24, 23, 22, 23, 22, 21, 20, 21, 22, 23, 22, 23, 24,\n",
       "       25, 24, 25, 24, 25, 24, 25, 24, 23, 24, 23, 24, 23, 22, 23, 22, 23,\n",
       "       24, 23, 24, 23, 22, 21, 22, 21, 22, 21, 20, 19, 18, 19, 18, 17, 18,\n",
       "       17, 18, 19, 18, 17, 18, 17, 18, 19, 20, 21, 22, 21, 20, 19, 18, 19,\n",
       "       18, 19, 18, 19, 18, 19, 18, 19, 20, 21, 20, 19, 18, 17, 16, 15, 14,\n",
       "       15, 14, 13, 12, 11, 10, 11, 10,  9, 10, 11, 12, 11, 12, 11, 10, 11,\n",
       "       12, 11, 10,  9, 10, 11, 12, 13, 14, 13, 12, 13, 14, 13, 14, 15, 14,\n",
       "       13, 12, 13, 14, 15, 16, 15, 14, 13, 14, 15, 14, 13, 12, 13, 14, 15,\n",
       "       16, 15, 16, 15, 16, 17, 16, 15, 16, 17, 16, 15, 16, 17, 18, 17, 18,\n",
       "       17, 16, 15, 16, 17, 18, 17, 18, 17, 16, 17, 16, 17, 18, 17, 18, 17,\n",
       "       18, 17, 18, 17, 18, 17, 18, 17, 18, 17, 16, 15, 14, 15, 16, 17, 18,\n",
       "       17, 18, 17, 16, 17, 16, 15, 14, 13, 12, 13, 12, 11, 10, 11, 12, 11,\n",
       "       12, 13, 14, 13, 12, 13, 12, 13, 14, 15, 14, 15, 14, 15, 16, 17, 18,\n",
       "       17, 16, 15, 14, 15, 14, 13, 12, 11, 10, 11, 10,  9,  8,  7,  8,  9,\n",
       "       10, 11, 10, 11, 12, 11, 10,  9, 10, 11, 12, 13, 14, 15, 14, 15, 16,\n",
       "       15, 16, 17, 18, 17, 16, 17, 16, 17, 16, 15, 16, 15, 14, 13, 14, 15,\n",
       "       14, 15, 14, 15, 16, 15, 14, 15, 16, 15, 16, 15, 14, 13, 14, 15, 14,\n",
       "       13, 14, 13, 12, 13, 14, 13, 14, 13, 14, 15, 16, 17, 18, 19, 20, 21,\n",
       "       22, 23, 22, 23, 22, 21, 20, 19, 18, 17, 16, 17, 16, 15, 16, 17, 18,\n",
       "       17, 18, 19, 18, 17, 18, 19, 20, 21, 20, 21, 20, 21, 20, 21, 22, 21,\n",
       "       22, 23, 24, 23, 22, 23, 24, 23, 22, 21, 22, 23, 22, 21, 22, 23, 24,\n",
       "       23, 24, 25, 24, 25, 24, 25, 26, 27, 28, 27, 26, 27, 26, 25, 24, 23,\n",
       "       22, 21, 20, 19, 18, 19, 20, 21, 22, 23, 24, 23, 24, 23, 24, 23, 24,\n",
       "       23, 24, 23, 24, 23, 24, 25, 24, 23, 24, 25, 24, 23, 24, 23, 22, 23,\n",
       "       24, 23, 22, 23, 24, 25, 26, 25, 26, 25, 26, 27, 26, 27, 28, 27, 28,\n",
       "       27, 26, 25, 26, 25, 24, 23, 22, 21, 22, 23, 24, 23, 24, 25, 24, 25,\n",
       "       24, 25, 26, 27, 26, 27, 28, 29, 30, 29, 30, 31, 32, 33, 32, 33, 34,\n",
       "       33, 32, 33, 34, 33, 32, 33, 34, 35, 34, 35, 34, 35, 36, 37, 38, 39,\n",
       "       40, 41, 40, 41, 42, 41, 40, 41, 40, 39, 40, 41, 40, 39, 40, 39, 40,\n",
       "       39, 38, 39, 38, 37, 36, 37, 38, 37, 38, 37, 38, 39, 40, 39, 40, 41,\n",
       "       42, 43, 42, 43, 44, 43, 44, 43, 42, 43, 42, 41, 40, 39, 40, 39, 38,\n",
       "       37, 38, 37, 38, 39, 38, 39, 38, 39, 40, 41, 42, 41, 40, 39, 40, 41,\n",
       "       42, 41, 40, 41, 40, 39, 40, 39, 38, 37, 38, 37, 36, 37, 38, 37, 36,\n",
       "       37, 36, 37, 36, 35, 36, 35, 34, 33, 34, 33, 34, 35, 36, 37, 36, 35,\n",
       "       36, 37, 38, 39, 40, 41, 42, 43, 42, 41, 42, 43, 44, 43, 44, 45, 46,\n",
       "       45, 44, 43, 42, 41, 40, 41, 40, 41, 42, 41, 40, 39, 40, 41, 40, 41,\n",
       "       42, 41, 40, 39, 38, 39, 40, 41, 42, 43, 44, 43, 44, 43, 42, 41, 42,\n",
       "       43, 42, 43, 44, 43, 44, 45, 44, 43, 42, 43, 42, 43, 44, 45, 44, 45,\n",
       "       44, 43, 44, 45, 46, 45, 46, 45, 44, 43, 44, 45, 44, 43, 42, 43, 44,\n",
       "       43, 42, 43, 42, 41, 40, 41, 42, 41, 42, 43, 42, 41, 42, 41, 42, 41,\n",
       "       42, 43, 44, 45, 44, 43, 42, 41, 40, 41, 42, 43, 42, 43, 44, 43, 42,\n",
       "       41, 40, 39, 40, 41, 42, 43, 44, 43, 44, 43, 42, 41, 40, 41, 42, 43,\n",
       "       42, 43, 44, 45, 46, 47, 46, 45, 44, 45, 46, 45, 44, 45, 46, 47, 48,\n",
       "       47, 48, 49, 48, 49, 50, 49, 48, 47, 48, 47, 48, 47, 46])"
      ]
     },
     "execution_count": 80,
     "metadata": {},
     "output_type": "execute_result"
    }
   ],
   "source": [
    "walk"
   ]
  },
  {
   "cell_type": "code",
   "execution_count": 71,
   "id": "3eae86d3-ac3e-46ad-9e15-eec4c47d5c96",
   "metadata": {},
   "outputs": [
    {
     "data": {
      "text/plain": [
       "156"
      ]
     },
     "execution_count": 71,
     "metadata": {},
     "output_type": "execute_result"
    }
   ],
   "source": [
    "# To get the value where the walk reached a particular value away from the start in positive or negative direction, for example 10 or -10 we can use argmax and boolean array like below:\n",
    "(np.abs(walk)>10).argmax()"
   ]
  },
  {
   "cell_type": "markdown",
   "id": "89c91090-5103-4268-ae94-6edbe37d46b3",
   "metadata": {},
   "source": [
    "## Simulating Many Random Walks at Once"
   ]
  },
  {
   "cell_type": "code",
   "execution_count": 85,
   "id": "a45e099f-ec78-4a3c-907d-9468f4edbe79",
   "metadata": {},
   "outputs": [
    {
     "data": {
      "text/plain": [
       "array([[  1,   2,   3, ...,  22,  23,  22],\n",
       "       [  1,   0,  -1, ..., -50, -49, -48],\n",
       "       [  1,   2,   3, ...,  50,  49,  48],\n",
       "       ...,\n",
       "       [ -1,  -2,  -1, ..., -10,  -9, -10],\n",
       "       [ -1,  -2,  -3, ...,   8,   9,   8],\n",
       "       [ -1,   0,   1, ...,  -4,  -3,  -2]])"
      ]
     },
     "execution_count": 85,
     "metadata": {},
     "output_type": "execute_result"
    }
   ],
   "source": [
    "nwalks = 5000\n",
    "nsteps = 1000\n",
    "draws = rng.integers(0,2, size = (nwalks, nsteps))\n",
    "steps = np.where(draws == 0, -1, 1)\n",
    "walks = steps.cumsum(axis=1)\n",
    "walks"
   ]
  },
  {
   "cell_type": "code",
   "execution_count": 86,
   "id": "f070df89-4231-425d-bd23-bdbb8e855237",
   "metadata": {},
   "outputs": [
    {
     "data": {
      "text/plain": [
       "114"
      ]
     },
     "execution_count": 86,
     "metadata": {},
     "output_type": "execute_result"
    }
   ],
   "source": [
    "walks.max()"
   ]
  },
  {
   "cell_type": "code",
   "execution_count": 87,
   "id": "d2222fab-a678-4d18-9c6b-0bbfe64149ef",
   "metadata": {},
   "outputs": [
    {
     "data": {
      "text/plain": [
       "-120"
      ]
     },
     "execution_count": 87,
     "metadata": {},
     "output_type": "execute_result"
    }
   ],
   "source": [
    "walks.min()"
   ]
  },
  {
   "cell_type": "code",
   "execution_count": 92,
   "id": "2ab34ae6-5e05-4140-9cec-87ed18d27e36",
   "metadata": {},
   "outputs": [
    {
     "data": {
      "text/plain": [
       "array([False,  True,  True, ...,  True, False, False])"
      ]
     },
     "execution_count": 92,
     "metadata": {},
     "output_type": "execute_result"
    }
   ],
   "source": [
    "# Check the minimum time when for walks that reached 30 or -30\n",
    "hits30 = (np.abs(walks) > 30).any(axis = 1)\n",
    "hits30"
   ]
  },
  {
   "cell_type": "code",
   "execution_count": 93,
   "id": "4256527a-2df8-4397-9891-6cd00583b555",
   "metadata": {},
   "outputs": [
    {
     "data": {
      "text/plain": [
       "3255"
      ]
     },
     "execution_count": 93,
     "metadata": {},
     "output_type": "execute_result"
    }
   ],
   "source": [
    "hits30.sum()"
   ]
  },
  {
   "cell_type": "code",
   "execution_count": 95,
   "id": "077365c1-90ac-438c-9bca-6a7985b19ec6",
   "metadata": {},
   "outputs": [
    {
     "data": {
      "text/plain": [
       "array([248, 492, 286, ..., 150, 222, 268])"
      ]
     },
     "execution_count": 95,
     "metadata": {},
     "output_type": "execute_result"
    }
   ],
   "source": [
    "crossing_times = (np.abs(walks[hits30]) > 30).argmax(axis = 1)\n",
    "crossing_times"
   ]
  },
  {
   "cell_type": "code",
   "execution_count": 102,
   "id": "4b46ea23-da99-4601-842c-d59bf2e8121b",
   "metadata": {},
   "outputs": [
    {
     "data": {
      "text/plain": [
       "511.94715821812594"
      ]
     },
     "execution_count": 102,
     "metadata": {},
     "output_type": "execute_result"
    }
   ],
   "source": [
    "crossing_times.mean()"
   ]
  },
  {
   "cell_type": "code",
   "execution_count": 111,
   "id": "7e8bcf98-43a4-4621-afef-f77ae3b27f28",
   "metadata": {},
   "outputs": [
    {
     "data": {
      "text/plain": [
       "array([[ -1,  -2,  -1, ...,  40,  39,  40],\n",
       "       [  1,   2,   3, ...,  40,  39,  40],\n",
       "       [  1,   0,   1, ..., -26, -27, -26],\n",
       "       ...,\n",
       "       [  1,   0,   1, ...,  34,  33,  34],\n",
       "       [  1,   2,   1, ...,  48,  49,  48],\n",
       "       [ -1,   0,  -1, ...,  48,  47,  46]])"
      ]
     },
     "execution_count": 111,
     "metadata": {},
     "output_type": "execute_result"
    }
   ],
   "source": [
    "# We can use other distributions for the steps. We do not need to use equal-size coin flips like this:\n",
    "# draws = rng.integers(0,2, size = (nwalks, nsteps))\n",
    "# We can use for example standard normal:\n",
    "draws = 0.25 * rng.standard_normal((nwalks, nsteps))\n",
    "# draws\n",
    "steps = np.where(draws <= 0, -1, 1)\n",
    "walks = steps.cumsum(axis=1)\n",
    "walks"
   ]
  }
 ],
 "metadata": {
  "kernelspec": {
   "display_name": "Python 3 (ipykernel)",
   "language": "python",
   "name": "python3"
  },
  "language_info": {
   "codemirror_mode": {
    "name": "ipython",
    "version": 3
   },
   "file_extension": ".py",
   "mimetype": "text/x-python",
   "name": "python",
   "nbconvert_exporter": "python",
   "pygments_lexer": "ipython3",
   "version": "3.12.2"
  }
 },
 "nbformat": 4,
 "nbformat_minor": 5
}
