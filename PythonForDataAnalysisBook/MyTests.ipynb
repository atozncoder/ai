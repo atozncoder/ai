{
 "cells": [
  {
   "cell_type": "code",
   "execution_count": 1,
   "id": "6c977ca3-abdb-4c74-9cd0-4288f21d4ca2",
   "metadata": {},
   "outputs": [],
   "source": [
    "import numpy as np\n",
    "import pandas as pd"
   ]
  },
  {
   "cell_type": "code",
   "execution_count": 11,
   "id": "093f1593-2a55-4fcb-8473-43fc4e168baa",
   "metadata": {},
   "outputs": [
    {
     "data": {
      "text/plain": [
       "a    2.0\n",
       "dtype: float64"
      ]
     },
     "execution_count": 11,
     "metadata": {},
     "output_type": "execute_result"
    }
   ],
   "source": [
    "sr1 = pd.Series([], dtype=np.int16)\n",
    "sr2 = pd.Series([1], dtype=np.int16, index=[\"a\"])\n",
    "sr3 = pd.Series([1], dtype=np.int16, index=[\"a\"])\n",
    "sr1 = sr1.add(sr2, fill_value=0)\n",
    "sr1 = sr1.add(sr3, fill_value=0)\n",
    "sr1"
   ]
  }
 ],
 "metadata": {
  "kernelspec": {
   "display_name": "Python 3 (ipykernel)",
   "language": "python",
   "name": "python3"
  },
  "language_info": {
   "codemirror_mode": {
    "name": "ipython",
    "version": 3
   },
   "file_extension": ".py",
   "mimetype": "text/x-python",
   "name": "python",
   "nbconvert_exporter": "python",
   "pygments_lexer": "ipython3",
   "version": "3.12.2"
  }
 },
 "nbformat": 4,
 "nbformat_minor": 5
}
