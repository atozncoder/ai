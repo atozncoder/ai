{
 "cells": [
  {
   "cell_type": "code",
   "execution_count": 27,
   "id": "bb5d03ee-39a7-40d5-bf4f-0099858f18f1",
   "metadata": {},
   "outputs": [],
   "source": [
    "! pip install -Uqq utils"
   ]
  },
  {
   "cell_type": "code",
   "execution_count": 28,
   "id": "56073854-8b03-4a4e-a8db-d1377bc1aa02",
   "metadata": {},
   "outputs": [],
   "source": [
    "import fastbook\n",
    "fastbook.setup_book()\n",
    "from fastai.vision.all import *\n",
    "from fastbook import plot_function\n",
    "\n"
   ]
  },
  {
   "cell_type": "code",
   "execution_count": 3,
   "id": "027f2cbc-eadc-4114-8658-d999bd3ab11b",
   "metadata": {},
   "outputs": [
    {
     "data": {
      "text/plain": [
       "<torch._C.Generator at 0x7f2e73f45fd0>"
      ]
     },
     "execution_count": 3,
     "metadata": {},
     "output_type": "execute_result"
    }
   ],
   "source": [
    "torch.random.manual_seed(42)"
   ]
  },
  {
   "cell_type": "code",
   "execution_count": 4,
   "id": "63b0d5ea-6d6d-4156-bb2b-3e5e2efc24cc",
   "metadata": {},
   "outputs": [],
   "source": [
    "acts = torch.randn((6,2)) * 2"
   ]
  },
  {
   "cell_type": "code",
   "execution_count": 5,
   "id": "7de6bd9c-a89f-40b4-8c8b-68d2dfbf0b91",
   "metadata": {},
   "outputs": [
    {
     "data": {
      "text/plain": [
       "tensor([[ 0.6734,  0.2576],\n",
       "        [ 0.4689,  0.4607],\n",
       "        [-2.2457, -0.3727],\n",
       "        [ 4.4164, -1.2760],\n",
       "        [ 0.9233,  0.5347],\n",
       "        [ 1.0698,  1.6187]])"
      ]
     },
     "execution_count": 5,
     "metadata": {},
     "output_type": "execute_result"
    }
   ],
   "source": [
    "acts"
   ]
  },
  {
   "cell_type": "code",
   "execution_count": 6,
   "id": "bcc505a5-0698-44b8-b8ae-342bd145b944",
   "metadata": {},
   "outputs": [
    {
     "data": {
      "text/plain": [
       "tensor([[0.6623, 0.5641],\n",
       "        [0.6151, 0.6132],\n",
       "        [0.0957, 0.4079],\n",
       "        [0.9881, 0.2182],\n",
       "        [0.7157, 0.6306],\n",
       "        [0.7446, 0.8346]])"
      ]
     },
     "execution_count": 6,
     "metadata": {},
     "output_type": "execute_result"
    }
   ],
   "source": [
    "acts.sigmoid()"
   ]
  },
  {
   "cell_type": "code",
   "execution_count": 9,
   "id": "6c92b728-4298-47e3-a046-86d021579b40",
   "metadata": {},
   "outputs": [
    {
     "data": {
      "text/plain": [
       "tensor([0.6025, 0.5021, 0.1332, 0.9966, 0.5959, 0.3661])"
      ]
     },
     "execution_count": 9,
     "metadata": {},
     "output_type": "execute_result"
    }
   ],
   "source": [
    "(acts[:,0] - acts[:,1]).sigmoid()"
   ]
  },
  {
   "cell_type": "markdown",
   "id": "e98facc9-4c2f-468c-bc7f-703ad9a9179d",
   "metadata": {},
   "source": [
    "```def softmax(x): return exp(x) / exp(x).sum(dim=1, keepdim=True```"
   ]
  },
  {
   "cell_type": "code",
   "execution_count": 10,
   "id": "04b3fbab-b438-46b9-b01f-a76c6f9e9b18",
   "metadata": {},
   "outputs": [
    {
     "data": {
      "text/plain": [
       "tensor([[0.6025, 0.3975],\n",
       "        [0.5021, 0.4979],\n",
       "        [0.1332, 0.8668],\n",
       "        [0.9966, 0.0034],\n",
       "        [0.5959, 0.4041],\n",
       "        [0.3661, 0.6339]])"
      ]
     },
     "execution_count": 10,
     "metadata": {},
     "output_type": "execute_result"
    }
   ],
   "source": [
    "sm_acts = torch.softmax(acts, dim=1)\n",
    "sm_acts"
   ]
  },
  {
   "cell_type": "code",
   "execution_count": 16,
   "id": "6e32df8d-2cea-449e-8d91-b068369f5da7",
   "metadata": {},
   "outputs": [],
   "source": [
    "targ = tensor([0,1,0,1,1,0])"
   ]
  },
  {
   "cell_type": "code",
   "execution_count": 17,
   "id": "5c6ad73b-8273-45f6-8d5a-8c3585e3e3bc",
   "metadata": {},
   "outputs": [
    {
     "data": {
      "text/plain": [
       "tensor([[0.6025, 0.3975],\n",
       "        [0.5021, 0.4979],\n",
       "        [0.1332, 0.8668],\n",
       "        [0.9966, 0.0034],\n",
       "        [0.5959, 0.4041],\n",
       "        [0.3661, 0.6339]])"
      ]
     },
     "execution_count": 17,
     "metadata": {},
     "output_type": "execute_result"
    }
   ],
   "source": [
    "sm_acts"
   ]
  },
  {
   "cell_type": "code",
   "execution_count": 19,
   "id": "ec2843e1-547f-4858-a436-a525256179b9",
   "metadata": {},
   "outputs": [
    {
     "data": {
      "text/plain": [
       "tensor([0.6025, 0.4979, 0.1332, 0.0034, 0.4041, 0.3661])"
      ]
     },
     "execution_count": 19,
     "metadata": {},
     "output_type": "execute_result"
    }
   ],
   "source": [
    "idx = range(6)\n",
    "sm_acts[idx, targ]"
   ]
  },
  {
   "cell_type": "code",
   "execution_count": 20,
   "id": "e361676b-d32b-4d04-b13e-974e63ca67a0",
   "metadata": {},
   "outputs": [
    {
     "data": {
      "text/html": [
       "<table border=\"1\" class=\"dataframe\">\n",
       "  <thead>\n",
       "    <tr style=\"text-align: right;\">\n",
       "      <th>3</th>\n",
       "      <th>7</th>\n",
       "      <th>targ</th>\n",
       "      <th>idx</th>\n",
       "      <th>result</th>\n",
       "    </tr>\n",
       "  </thead>\n",
       "  <tbody>\n",
       "    <tr>\n",
       "      <td>0.602469</td>\n",
       "      <td>0.397531</td>\n",
       "      <td>0</td>\n",
       "      <td>0</td>\n",
       "      <td>0.602469</td>\n",
       "    </tr>\n",
       "    <tr>\n",
       "      <td>0.502065</td>\n",
       "      <td>0.497935</td>\n",
       "      <td>1</td>\n",
       "      <td>1</td>\n",
       "      <td>0.497935</td>\n",
       "    </tr>\n",
       "    <tr>\n",
       "      <td>0.133188</td>\n",
       "      <td>0.866811</td>\n",
       "      <td>0</td>\n",
       "      <td>2</td>\n",
       "      <td>0.133188</td>\n",
       "    </tr>\n",
       "    <tr>\n",
       "      <td>0.996640</td>\n",
       "      <td>0.003360</td>\n",
       "      <td>1</td>\n",
       "      <td>3</td>\n",
       "      <td>0.003360</td>\n",
       "    </tr>\n",
       "    <tr>\n",
       "      <td>0.595949</td>\n",
       "      <td>0.404051</td>\n",
       "      <td>1</td>\n",
       "      <td>4</td>\n",
       "      <td>0.404051</td>\n",
       "    </tr>\n",
       "    <tr>\n",
       "      <td>0.366118</td>\n",
       "      <td>0.633882</td>\n",
       "      <td>0</td>\n",
       "      <td>5</td>\n",
       "      <td>0.366118</td>\n",
       "    </tr>\n",
       "  </tbody>\n",
       "</table>"
      ],
      "text/plain": [
       "<IPython.core.display.HTML object>"
      ]
     },
     "metadata": {},
     "output_type": "display_data"
    }
   ],
   "source": [
    "# from IPython.display import HTML\n",
    "from IPython.display import display, HTML\n",
    "\n",
    "df = pd.DataFrame(sm_acts, columns=[\"3\",\"7\"])\n",
    "df['targ'] = targ\n",
    "df['idx'] = idx\n",
    "df['result'] = sm_acts[range(6), targ]\n",
    "# t = df.style.hide_index()\n",
    "# t = df.hide_index()\n",
    "html = df.to_html(index=False)\n",
    "#To have html code compatible with our script\n",
    "# html = t._repr_html_().split('')[1]\n",
    "# html = re.sub(r'', r'', html)\n",
    "display(HTML(html))"
   ]
  },
  {
   "cell_type": "code",
   "execution_count": 21,
   "id": "62bba296-1603-4582-9ca0-a29f59a7b3ff",
   "metadata": {},
   "outputs": [
    {
     "data": {
      "text/plain": [
       "tensor([-0.6025, -0.4979, -0.1332, -0.0034, -0.4041, -0.3661])"
      ]
     },
     "execution_count": 21,
     "metadata": {},
     "output_type": "execute_result"
    }
   ],
   "source": [
    "-sm_acts[idx, targ]"
   ]
  },
  {
   "cell_type": "code",
   "execution_count": 22,
   "id": "325f021c-b9c5-4a01-ad4c-ead9a27c3d86",
   "metadata": {},
   "outputs": [
    {
     "data": {
      "text/plain": [
       "tensor([-0.6025, -0.4979, -0.1332, -0.0034, -0.4041, -0.3661])"
      ]
     },
     "execution_count": 22,
     "metadata": {},
     "output_type": "execute_result"
    }
   ],
   "source": [
    "F.nll_loss(sm_acts, targ, reduction='none')"
   ]
  },
  {
   "cell_type": "code",
   "execution_count": 29,
   "id": "7fb073df-5883-44b8-b70a-fadbf99a2428",
   "metadata": {},
   "outputs": [
    {
     "data": {
      "image/png": "[encoded data removed]",
      "text/plain": [
       "<Figure size 600x400 with 1 Axes>"
      ]
     },
     "metadata": {},
     "output_type": "display_data"
    }
   ],
   "source": [
    "plot_function(torch.log, min=0, max=1, ty='log(x)', tx='x')"
   ]
  }
 ],
 "metadata": {
  "kernelspec": {
   "display_name": "Python 3 (ipykernel)",
   "language": "python",
   "name": "python3"
  },
  "language_info": {
   "codemirror_mode": {
    "name": "ipython",
    "version": 3
   },
   "file_extension": ".py",
   "mimetype": "text/x-python",
   "name": "python",
   "nbconvert_exporter": "python",
   "pygments_lexer": "ipython3",
   "version": "3.12.2"
  }
 },
 "nbformat": 4,
 "nbformat_minor": 5
}
